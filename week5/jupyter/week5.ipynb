{
 "cells": [
  {
   "cell_type": "code",
   "execution_count": 1,
   "id": "94d72538-b1ed-4175-9d02-53fae71fb64f",
   "metadata": {},
   "outputs": [],
   "source": [
    "import pandas as pd\n",
    "import evidently"
   ]
  },
  {
   "cell_type": "markdown",
   "id": "7aecb91d-efd5-42fd-a24b-c3d3f5782cb2",
   "metadata": {},
   "source": [
    "#### Q1. What is the shape of the downloaded data? How many rows are there?\n",
    "72044"
   ]
  },
  {
   "cell_type": "code",
   "execution_count": 3,
   "id": "5aa4a245",
   "metadata": {},
   "outputs": [
    {
     "name": "stdout",
     "output_type": "stream",
     "text": [
      "--2023-06-28 19:29:18--  https://d37ci6vzurychx.cloudfront.net/trip-data/green_tripdata_2023-03.parquet\n",
      "Resolving d37ci6vzurychx.cloudfront.net (d37ci6vzurychx.cloudfront.net)... 65.9.50.8, 65.9.50.8, 65.9.50.44, ...\n",
      "Connecting to d37ci6vzurychx.cloudfront.net (d37ci6vzurychx.cloudfront.net)|65.9.50.8|:443... connected.\n",
      "HTTP request sent, awaiting response... 200 OK\n",
      "Length: 1730999 (1.7M) [binary/octet-stream]\n",
      "Saving to: ‘./data/green_tripdata_2023-03.parquet’\n",
      "\n",
      "./data/green_tripda 100%[===================>]   1.65M  3.10MB/s    in 0.5s    \n",
      "\n",
      "2023-06-28 19:29:20 (3.10 MB/s) - ‘./data/green_tripdata_2023-03.parquet’ saved [1730999/1730999]\n",
      "\n"
     ]
    }
   ],
   "source": [
    "!wget -O ./data/green_tripdata_2023-03.parquet https://d37ci6vzurychx.cloudfront.net/trip-data/green_tripdata_2023-03.parquet"
   ]
  },
  {
   "cell_type": "code",
   "execution_count": 5,
   "id": "8789c0c6-8f91-4aea-b6a3-1893e8a58c36",
   "metadata": {},
   "outputs": [],
   "source": [
    "df = pd.read_parquet(\"./data/green_tripdata_2023-03.parquet\")"
   ]
  },
  {
   "cell_type": "code",
   "execution_count": 6,
   "id": "9a9381cc-2b3e-49e8-bc2c-00d2acea2ed3",
   "metadata": {},
   "outputs": [
    {
     "data": {
      "text/plain": [
       "(72044, 20)"
      ]
     },
     "execution_count": 6,
     "metadata": {},
     "output_type": "execute_result"
    }
   ],
   "source": [
    "df.shape"
   ]
  },
  {
   "cell_type": "markdown",
   "id": "b1f5136f-a871-4b98-8dbd-301a6b908b08",
   "metadata": {
    "jp-MarkdownHeadingCollapsed": true
   },
   "source": [
    "#### Q2. What metric did you choose?\n",
    "RegressionQualityMetric()"
   ]
  },
  {
   "cell_type": "markdown",
   "id": "5bc2b382-3d22-4915-bc4e-23c7f2f8d0ef",
   "metadata": {},
   "source": [
    "#### Q3. What are the correct prefect task parameters?\n",
    "@task(retries=2, retry_delay_seconds=5, name=\"calculate metrics\")"
   ]
  },
  {
   "cell_type": "code",
   "execution_count": 13,
   "id": "418dd77f-ad1b-4961-b145-c7d337b2d455",
   "metadata": {},
   "outputs": [
    {
     "name": "stdout",
     "output_type": "stream",
     "text": [
      "/opt/conda/lib/python3.10/site-packages/umap/distances.py:1063: NumbaDeprecationWarning: \u001b[1mThe 'nopython' keyword argument was not supplied to the 'numba.jit' decorator. The implicit default value for this argument is currently False, but it will be changed to True in Numba 0.59.0. See https://numba.readthedocs.io/en/stable/reference/deprecation.html#deprecation-of-object-mode-fall-back-behaviour-when-using-jit for details.\u001b[0m\n",
      "  @numba.jit()\n",
      "/opt/conda/lib/python3.10/site-packages/umap/distances.py:1071: NumbaDeprecationWarning: \u001b[1mThe 'nopython' keyword argument was not supplied to the 'numba.jit' decorator. The implicit default value for this argument is currently False, but it will be changed to True in Numba 0.59.0. See https://numba.readthedocs.io/en/stable/reference/deprecation.html#deprecation-of-object-mode-fall-back-behaviour-when-using-jit for details.\u001b[0m\n",
      "  @numba.jit()\n",
      "/opt/conda/lib/python3.10/site-packages/umap/distances.py:1086: NumbaDeprecationWarning: \u001b[1mThe 'nopython' keyword argument was not supplied to the 'numba.jit' decorator. The implicit default value for this argument is currently False, but it will be changed to True in Numba 0.59.0. See https://numba.readthedocs.io/en/stable/reference/deprecation.html#deprecation-of-object-mode-fall-back-behaviour-when-using-jit for details.\u001b[0m\n",
      "  @numba.jit()\n",
      "/opt/conda/lib/python3.10/site-packages/umap/umap_.py:660: NumbaDeprecationWarning: \u001b[1mThe 'nopython' keyword argument was not supplied to the 'numba.jit' decorator. The implicit default value for this argument is currently False, but it will be changed to True in Numba 0.59.0. See https://numba.readthedocs.io/en/stable/reference/deprecation.html#deprecation-of-object-mode-fall-back-behaviour-when-using-jit for details.\u001b[0m\n",
      "  @numba.jit()\n",
      "21:40:25.301 | \u001b[36mINFO\u001b[0m    | prefect.engine - Created flow run\u001b[35m 'uptight-anaconda'\u001b[0m for flow\u001b[1;35m 'batch-monitoring-backfill'\u001b[0m\n",
      "21:40:26.837 | \u001b[36mINFO\u001b[0m    | Flow run\u001b[35m 'uptight-anaconda'\u001b[0m - Created task run 'create_db-b8d6e026-0' for task 'create_db'\n",
      "21:40:26.839 | \u001b[36mINFO\u001b[0m    | Flow run\u001b[35m 'uptight-anaconda'\u001b[0m - Executing 'create_db-b8d6e026-0' immediately...\n",
      "21:40:27.862 | \u001b[36mINFO\u001b[0m    | Task run 'create_db-b8d6e026-0' - Finished in state \u001b[32mCompleted\u001b[0m()\n",
      "21:40:28.103 | \u001b[36mINFO\u001b[0m    | Flow run\u001b[35m 'uptight-anaconda'\u001b[0m - Created task run 'calculate_metrics-c3a4cafe-0' for task 'calculate_metrics'\n",
      "21:40:28.105 | \u001b[36mINFO\u001b[0m    | Flow run\u001b[35m 'uptight-anaconda'\u001b[0m - Executing 'calculate_metrics-c3a4cafe-0' immediately...\n",
      "21:40:31.855 | \u001b[36mINFO\u001b[0m    | Task run 'calculate_metrics-c3a4cafe-0' - Finished in state \u001b[32mCompleted\u001b[0m()\n",
      "21:40:32.162 | \u001b[36mINFO\u001b[0m    | Flow run\u001b[35m 'uptight-anaconda'\u001b[0m - Created task run 'calculate_metrics-c3a4cafe-1' for task 'calculate_metrics'\n",
      "21:40:32.163 | \u001b[36mINFO\u001b[0m    | Flow run\u001b[35m 'uptight-anaconda'\u001b[0m - Executing 'calculate_metrics-c3a4cafe-1' immediately...\n",
      "21:40:35.951 | \u001b[36mINFO\u001b[0m    | Task run 'calculate_metrics-c3a4cafe-1' - Finished in state \u001b[32mCompleted\u001b[0m()\n",
      "21:40:48.134 | \u001b[36mINFO\u001b[0m    | Flow run\u001b[35m 'uptight-anaconda'\u001b[0m - Created task run 'calculate_metrics-c3a4cafe-2' for task 'calculate_metrics'\n",
      "21:40:48.135 | \u001b[36mINFO\u001b[0m    | Flow run\u001b[35m 'uptight-anaconda'\u001b[0m - Executing 'calculate_metrics-c3a4cafe-2' immediately...\n",
      "21:40:52.227 | \u001b[36mINFO\u001b[0m    | Task run 'calculate_metrics-c3a4cafe-2' - Finished in state \u001b[32mCompleted\u001b[0m()\n",
      "21:40:52.518 | \u001b[36mINFO\u001b[0m    | Flow run\u001b[35m 'uptight-anaconda'\u001b[0m - Created task run 'calculate_metrics-c3a4cafe-3' for task 'calculate_metrics'\n",
      "21:40:52.519 | \u001b[36mINFO\u001b[0m    | Flow run\u001b[35m 'uptight-anaconda'\u001b[0m - Executing 'calculate_metrics-c3a4cafe-3' immediately...\n",
      "21:40:56.432 | \u001b[36mINFO\u001b[0m    | Task run 'calculate_metrics-c3a4cafe-3' - Finished in state \u001b[32mCompleted\u001b[0m()\n",
      "21:41:08.208 | \u001b[36mINFO\u001b[0m    | Flow run\u001b[35m 'uptight-anaconda'\u001b[0m - Created task run 'calculate_metrics-c3a4cafe-4' for task 'calculate_metrics'\n",
      "21:41:08.210 | \u001b[36mINFO\u001b[0m    | Flow run\u001b[35m 'uptight-anaconda'\u001b[0m - Executing 'calculate_metrics-c3a4cafe-4' immediately...\n",
      "21:41:11.985 | \u001b[36mINFO\u001b[0m    | Task run 'calculate_metrics-c3a4cafe-4' - Finished in state \u001b[32mCompleted\u001b[0m()\n",
      "21:41:12.304 | \u001b[36mINFO\u001b[0m    | Flow run\u001b[35m 'uptight-anaconda'\u001b[0m - Created task run 'calculate_metrics-c3a4cafe-5' for task 'calculate_metrics'\n",
      "21:41:12.305 | \u001b[36mINFO\u001b[0m    | Flow run\u001b[35m 'uptight-anaconda'\u001b[0m - Executing 'calculate_metrics-c3a4cafe-5' immediately...\n",
      "21:41:16.190 | \u001b[36mINFO\u001b[0m    | Task run 'calculate_metrics-c3a4cafe-5' - Finished in state \u001b[32mCompleted\u001b[0m()\n",
      "21:41:28.177 | \u001b[36mINFO\u001b[0m    | Flow run\u001b[35m 'uptight-anaconda'\u001b[0m - Created task run 'calculate_metrics-c3a4cafe-6' for task 'calculate_metrics'\n",
      "21:41:28.178 | \u001b[36mINFO\u001b[0m    | Flow run\u001b[35m 'uptight-anaconda'\u001b[0m - Executing 'calculate_metrics-c3a4cafe-6' immediately...\n",
      "21:41:32.068 | \u001b[36mINFO\u001b[0m    | Task run 'calculate_metrics-c3a4cafe-6' - Finished in state \u001b[32mCompleted\u001b[0m()\n",
      "21:41:32.272 | \u001b[36mINFO\u001b[0m    | Flow run\u001b[35m 'uptight-anaconda'\u001b[0m - Created task run 'calculate_metrics-c3a4cafe-7' for task 'calculate_metrics'\n",
      "21:41:32.274 | \u001b[36mINFO\u001b[0m    | Flow run\u001b[35m 'uptight-anaconda'\u001b[0m - Executing 'calculate_metrics-c3a4cafe-7' immediately...\n",
      "21:41:36.266 | \u001b[36mINFO\u001b[0m    | Task run 'calculate_metrics-c3a4cafe-7' - Finished in state \u001b[32mCompleted\u001b[0m()\n",
      "21:41:48.145 | \u001b[36mINFO\u001b[0m    | Flow run\u001b[35m 'uptight-anaconda'\u001b[0m - Created task run 'calculate_metrics-c3a4cafe-8' for task 'calculate_metrics'\n",
      "21:41:48.147 | \u001b[36mINFO\u001b[0m    | Flow run\u001b[35m 'uptight-anaconda'\u001b[0m - Executing 'calculate_metrics-c3a4cafe-8' immediately...\n",
      "21:41:52.263 | \u001b[36mINFO\u001b[0m    | Task run 'calculate_metrics-c3a4cafe-8' - Finished in state \u001b[32mCompleted\u001b[0m()\n",
      "21:41:52.450 | \u001b[36mINFO\u001b[0m    | Flow run\u001b[35m 'uptight-anaconda'\u001b[0m - Created task run 'calculate_metrics-c3a4cafe-9' for task 'calculate_metrics'\n",
      "21:41:52.452 | \u001b[36mINFO\u001b[0m    | Flow run\u001b[35m 'uptight-anaconda'\u001b[0m - Executing 'calculate_metrics-c3a4cafe-9' immediately...\n",
      "21:41:56.440 | \u001b[36mINFO\u001b[0m    | Task run 'calculate_metrics-c3a4cafe-9' - Finished in state \u001b[32mCompleted\u001b[0m()\n",
      "21:42:08.115 | \u001b[36mINFO\u001b[0m    | Flow run\u001b[35m 'uptight-anaconda'\u001b[0m - Created task run 'calculate_metrics-c3a4cafe-10' for task 'calculate_metrics'\n",
      "21:42:08.117 | \u001b[36mINFO\u001b[0m    | Flow run\u001b[35m 'uptight-anaconda'\u001b[0m - Executing 'calculate_metrics-c3a4cafe-10' immediately...\n",
      "21:42:12.106 | \u001b[36mINFO\u001b[0m    | Task run 'calculate_metrics-c3a4cafe-10' - Finished in state \u001b[32mCompleted\u001b[0m()\n",
      "21:42:12.312 | \u001b[36mINFO\u001b[0m    | Flow run\u001b[35m 'uptight-anaconda'\u001b[0m - Created task run 'calculate_metrics-c3a4cafe-11' for task 'calculate_metrics'\n",
      "21:42:12.313 | \u001b[36mINFO\u001b[0m    | Flow run\u001b[35m 'uptight-anaconda'\u001b[0m - Executing 'calculate_metrics-c3a4cafe-11' immediately...\n",
      "21:42:16.273 | \u001b[36mINFO\u001b[0m    | Task run 'calculate_metrics-c3a4cafe-11' - Finished in state \u001b[32mCompleted\u001b[0m()\n",
      "21:42:28.051 | \u001b[36mINFO\u001b[0m    | Flow run\u001b[35m 'uptight-anaconda'\u001b[0m - Created task run 'calculate_metrics-c3a4cafe-12' for task 'calculate_metrics'\n",
      "21:42:28.052 | \u001b[36mINFO\u001b[0m    | Flow run\u001b[35m 'uptight-anaconda'\u001b[0m - Executing 'calculate_metrics-c3a4cafe-12' immediately...\n",
      "21:42:32.179 | \u001b[36mINFO\u001b[0m    | Task run 'calculate_metrics-c3a4cafe-12' - Finished in state \u001b[32mCompleted\u001b[0m()\n",
      "21:42:32.367 | \u001b[36mINFO\u001b[0m    | Flow run\u001b[35m 'uptight-anaconda'\u001b[0m - Created task run 'calculate_metrics-c3a4cafe-13' for task 'calculate_metrics'\n",
      "21:42:32.368 | \u001b[36mINFO\u001b[0m    | Flow run\u001b[35m 'uptight-anaconda'\u001b[0m - Executing 'calculate_metrics-c3a4cafe-13' immediately...\n",
      "21:42:36.785 | \u001b[36mINFO\u001b[0m    | Task run 'calculate_metrics-c3a4cafe-13' - Finished in state \u001b[32mCompleted\u001b[0m()\n",
      "21:42:48.154 | \u001b[36mINFO\u001b[0m    | Flow run\u001b[35m 'uptight-anaconda'\u001b[0m - Created task run 'calculate_metrics-c3a4cafe-14' for task 'calculate_metrics'\n",
      "21:42:48.155 | \u001b[36mINFO\u001b[0m    | Flow run\u001b[35m 'uptight-anaconda'\u001b[0m - Executing 'calculate_metrics-c3a4cafe-14' immediately...\n",
      "21:42:52.128 | \u001b[36mINFO\u001b[0m    | Task run 'calculate_metrics-c3a4cafe-14' - Finished in state \u001b[32mCompleted\u001b[0m()\n",
      "21:42:52.316 | \u001b[36mINFO\u001b[0m    | Flow run\u001b[35m 'uptight-anaconda'\u001b[0m - Created task run 'calculate_metrics-c3a4cafe-15' for task 'calculate_metrics'\n",
      "21:42:52.316 | \u001b[36mINFO\u001b[0m    | Flow run\u001b[35m 'uptight-anaconda'\u001b[0m - Executing 'calculate_metrics-c3a4cafe-15' immediately...\n",
      "21:42:56.193 | \u001b[36mINFO\u001b[0m    | Task run 'calculate_metrics-c3a4cafe-15' - Finished in state \u001b[32mCompleted\u001b[0m()\n",
      "21:43:08.056 | \u001b[36mINFO\u001b[0m    | Flow run\u001b[35m 'uptight-anaconda'\u001b[0m - Created task run 'calculate_metrics-c3a4cafe-16' for task 'calculate_metrics'\n",
      "21:43:08.058 | \u001b[36mINFO\u001b[0m    | Flow run\u001b[35m 'uptight-anaconda'\u001b[0m - Executing 'calculate_metrics-c3a4cafe-16' immediately...\n",
      "21:43:12.080 | \u001b[36mINFO\u001b[0m    | Task run 'calculate_metrics-c3a4cafe-16' - Finished in state \u001b[32mCompleted\u001b[0m()\n",
      "21:43:12.270 | \u001b[36mINFO\u001b[0m    | Flow run\u001b[35m 'uptight-anaconda'\u001b[0m - Created task run 'calculate_metrics-c3a4cafe-17' for task 'calculate_metrics'\n",
      "21:43:12.271 | \u001b[36mINFO\u001b[0m    | Flow run\u001b[35m 'uptight-anaconda'\u001b[0m - Executing 'calculate_metrics-c3a4cafe-17' immediately...\n",
      "21:43:16.212 | \u001b[36mINFO\u001b[0m    | Task run 'calculate_metrics-c3a4cafe-17' - Finished in state \u001b[32mCompleted\u001b[0m()\n",
      "21:43:28.090 | \u001b[36mINFO\u001b[0m    | Flow run\u001b[35m 'uptight-anaconda'\u001b[0m - Created task run 'calculate_metrics-c3a4cafe-18' for task 'calculate_metrics'\n",
      "21:43:28.092 | \u001b[36mINFO\u001b[0m    | Flow run\u001b[35m 'uptight-anaconda'\u001b[0m - Executing 'calculate_metrics-c3a4cafe-18' immediately...\n",
      "21:43:31.871 | \u001b[36mINFO\u001b[0m    | Task run 'calculate_metrics-c3a4cafe-18' - Finished in state \u001b[32mCompleted\u001b[0m()\n",
      "21:43:32.085 | \u001b[36mINFO\u001b[0m    | Flow run\u001b[35m 'uptight-anaconda'\u001b[0m - Created task run 'calculate_metrics-c3a4cafe-19' for task 'calculate_metrics'\n",
      "21:43:32.087 | \u001b[36mINFO\u001b[0m    | Flow run\u001b[35m 'uptight-anaconda'\u001b[0m - Executing 'calculate_metrics-c3a4cafe-19' immediately...\n",
      "21:43:35.976 | \u001b[36mINFO\u001b[0m    | Task run 'calculate_metrics-c3a4cafe-19' - Finished in state \u001b[32mCompleted\u001b[0m()\n",
      "21:43:48.164 | \u001b[36mINFO\u001b[0m    | Flow run\u001b[35m 'uptight-anaconda'\u001b[0m - Created task run 'calculate_metrics-c3a4cafe-20' for task 'calculate_metrics'\n",
      "21:43:48.165 | \u001b[36mINFO\u001b[0m    | Flow run\u001b[35m 'uptight-anaconda'\u001b[0m - Executing 'calculate_metrics-c3a4cafe-20' immediately...\n",
      "21:43:52.039 | \u001b[36mINFO\u001b[0m    | Task run 'calculate_metrics-c3a4cafe-20' - Finished in state \u001b[32mCompleted\u001b[0m()\n",
      "21:43:52.258 | \u001b[36mINFO\u001b[0m    | Flow run\u001b[35m 'uptight-anaconda'\u001b[0m - Created task run 'calculate_metrics-c3a4cafe-21' for task 'calculate_metrics'\n",
      "21:43:52.259 | \u001b[36mINFO\u001b[0m    | Flow run\u001b[35m 'uptight-anaconda'\u001b[0m - Executing 'calculate_metrics-c3a4cafe-21' immediately...\n",
      "21:43:56.457 | \u001b[36mINFO\u001b[0m    | Task run 'calculate_metrics-c3a4cafe-21' - Finished in state \u001b[32mCompleted\u001b[0m()\n",
      "21:44:08.128 | \u001b[36mINFO\u001b[0m    | Flow run\u001b[35m 'uptight-anaconda'\u001b[0m - Created task run 'calculate_metrics-c3a4cafe-22' for task 'calculate_metrics'\n",
      "21:44:08.129 | \u001b[36mINFO\u001b[0m    | Flow run\u001b[35m 'uptight-anaconda'\u001b[0m - Executing 'calculate_metrics-c3a4cafe-22' immediately...\n",
      "21:44:11.817 | \u001b[36mINFO\u001b[0m    | Task run 'calculate_metrics-c3a4cafe-22' - Finished in state \u001b[32mCompleted\u001b[0m()\n",
      "21:44:12.021 | \u001b[36mINFO\u001b[0m    | Flow run\u001b[35m 'uptight-anaconda'\u001b[0m - Created task run 'calculate_metrics-c3a4cafe-23' for task 'calculate_metrics'\n",
      "21:44:12.023 | \u001b[36mINFO\u001b[0m    | Flow run\u001b[35m 'uptight-anaconda'\u001b[0m - Executing 'calculate_metrics-c3a4cafe-23' immediately...\n",
      "21:44:16.221 | \u001b[36mINFO\u001b[0m    | Task run 'calculate_metrics-c3a4cafe-23' - Finished in state \u001b[32mCompleted\u001b[0m()\n",
      "21:44:28.099 | \u001b[36mINFO\u001b[0m    | Flow run\u001b[35m 'uptight-anaconda'\u001b[0m - Created task run 'calculate_metrics-c3a4cafe-24' for task 'calculate_metrics'\n",
      "21:44:28.100 | \u001b[36mINFO\u001b[0m    | Flow run\u001b[35m 'uptight-anaconda'\u001b[0m - Executing 'calculate_metrics-c3a4cafe-24' immediately...\n",
      "21:44:31.852 | \u001b[36mINFO\u001b[0m    | Task run 'calculate_metrics-c3a4cafe-24' - Finished in state \u001b[32mCompleted\u001b[0m()\n",
      "21:44:32.045 | \u001b[36mINFO\u001b[0m    | Flow run\u001b[35m 'uptight-anaconda'\u001b[0m - Created task run 'calculate_metrics-c3a4cafe-25' for task 'calculate_metrics'\n",
      "21:44:32.047 | \u001b[36mINFO\u001b[0m    | Flow run\u001b[35m 'uptight-anaconda'\u001b[0m - Executing 'calculate_metrics-c3a4cafe-25' immediately...\n",
      "21:44:36.086 | \u001b[36mINFO\u001b[0m    | Task run 'calculate_metrics-c3a4cafe-25' - Finished in state \u001b[32mCompleted\u001b[0m()\n",
      "21:44:48.170 | \u001b[36mINFO\u001b[0m    | Flow run\u001b[35m 'uptight-anaconda'\u001b[0m - Created task run 'calculate_metrics-c3a4cafe-26' for task 'calculate_metrics'\n",
      "21:44:48.171 | \u001b[36mINFO\u001b[0m    | Flow run\u001b[35m 'uptight-anaconda'\u001b[0m - Executing 'calculate_metrics-c3a4cafe-26' immediately...\n",
      "21:44:52.061 | \u001b[36mINFO\u001b[0m    | Task run 'calculate_metrics-c3a4cafe-26' - Finished in state \u001b[32mCompleted\u001b[0m()\n",
      "21:44:52.366 | \u001b[36mINFO\u001b[0m    | Flow run\u001b[35m 'uptight-anaconda'\u001b[0m - Finished in state \u001b[32mCompleted\u001b[0m('All states completed.')\n",
      "\u001b[0m"
     ]
    }
   ],
   "source": [
    "!python evidently_metrics_calculation.py"
   ]
  },
  {
   "cell_type": "markdown",
   "id": "2e739957-54b9-43de-9e20-90f37a8f149c",
   "metadata": {},
   "source": [
    "#### Q4. What is the maximum value of metric quantile = 0.5 on the \"fare_amount\" column during March 2023 (calculated daily)?\n",
    "14"
   ]
  },
  {
   "cell_type": "markdown",
   "id": "eefbd8c0-c3d7-4c1e-b331-858295f2f6a9",
   "metadata": {},
   "source": [
    "#### Q5. Where to place a dashboard config file?\n",
    "project_folder/dashboards (05-monitoring/dashboards)"
   ]
  }
 ],
 "metadata": {
  "kernelspec": {
   "display_name": "Python 3 (ipykernel)",
   "language": "python",
   "name": "python3"
  },
  "language_info": {
   "codemirror_mode": {
    "name": "ipython",
    "version": 3
   },
   "file_extension": ".py",
   "mimetype": "text/x-python",
   "name": "python",
   "nbconvert_exporter": "python",
   "pygments_lexer": "ipython3",
   "version": "3.10.11"
  }
 },
 "nbformat": 4,
 "nbformat_minor": 5
}
