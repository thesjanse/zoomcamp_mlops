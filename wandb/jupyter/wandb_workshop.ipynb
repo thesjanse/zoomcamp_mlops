{
 "cells": [
  {
   "cell_type": "markdown",
   "id": "99f1638e-9af7-44e2-abf9-3e4c2199f101",
   "metadata": {},
   "source": [
    "#### Q1. wandb version\n",
    "0.15.3"
   ]
  },
  {
   "cell_type": "code",
   "execution_count": 1,
   "id": "aed298b2-bcd5-4b3c-bae9-06e6e32d1b1f",
   "metadata": {},
   "outputs": [
    {
     "name": "stdout",
     "output_type": "stream",
     "text": [
      "# packages in environment at /opt/conda:\n",
      "#\n",
      "# Name                    Version                   Build  Channel\n",
      "wandb                     0.15.3                   pypi_0    pypi\n"
     ]
    }
   ],
   "source": [
    "!conda list wandb"
   ]
  },
  {
   "cell_type": "code",
   "execution_count": 3,
   "id": "66a025df-9d33-499d-9f25-7a0f09ad5b4e",
   "metadata": {},
   "outputs": [
    {
     "name": "stdout",
     "output_type": "stream",
     "text": [
      "--2023-06-05 14:16:20--  https://d37ci6vzurychx.cloudfront.net/trip-data/green_tripdata_2022-01.parquet\n",
      "Resolving d37ci6vzurychx.cloudfront.net (d37ci6vzurychx.cloudfront.net)... 13.33.244.164, 13.33.244.164, 13.33.244.91, ...\n",
      "Connecting to d37ci6vzurychx.cloudfront.net (d37ci6vzurychx.cloudfront.net)|13.33.244.164|:443... connected.\n",
      "HTTP request sent, awaiting response... 200 OK\n",
      "Length: 1254291 (1.2M) [binary/octet-stream]\n",
      "Saving to: ‘./data/green_tripdata_2022-01.parquet’\n",
      "\n",
      "./data/green_tripda 100%[===================>]   1.20M  --.-KB/s    in 0.1s    \n",
      "\n",
      "2023-06-05 14:16:20 (9.37 MB/s) - ‘./data/green_tripdata_2022-01.parquet’ saved [1254291/1254291]\n",
      "\n",
      "--2023-06-05 14:16:20--  https://d37ci6vzurychx.cloudfront.net/trip-data/green_tripdata_2022-02.parquet\n",
      "Resolving d37ci6vzurychx.cloudfront.net (d37ci6vzurychx.cloudfront.net)... 13.33.244.164, 13.33.244.164, 13.33.244.91, ...\n",
      "Connecting to d37ci6vzurychx.cloudfront.net (d37ci6vzurychx.cloudfront.net)|13.33.244.164|:443... connected.\n",
      "HTTP request sent, awaiting response... 200 OK\n",
      "Length: 1428262 (1.4M) [binary/octet-stream]\n",
      "Saving to: ‘./data/green_tripdata_2022-02.parquet’\n",
      "\n",
      "./data/green_tripda 100%[===================>]   1.36M  8.14MB/s    in 0.2s    \n",
      "\n",
      "2023-06-05 14:16:21 (8.14 MB/s) - ‘./data/green_tripdata_2022-02.parquet’ saved [1428262/1428262]\n",
      "\n",
      "--2023-06-05 14:16:21--  https://d37ci6vzurychx.cloudfront.net/trip-data/green_tripdata_2022-03.parquet\n",
      "Resolving d37ci6vzurychx.cloudfront.net (d37ci6vzurychx.cloudfront.net)... 13.33.244.164, 13.33.244.164, 13.33.244.91, ...\n",
      "Connecting to d37ci6vzurychx.cloudfront.net (d37ci6vzurychx.cloudfront.net)|13.33.244.164|:443... connected.\n",
      "HTTP request sent, awaiting response... 200 OK\n",
      "Length: 1615562 (1.5M) [binary/octet-stream]\n",
      "Saving to: ‘./data/green_tripdata_2022-03.parquet’\n",
      "\n",
      "./data/green_tripda 100%[===================>]   1.54M  8.72MB/s    in 0.2s    \n",
      "\n",
      "2023-06-05 14:16:21 (8.72 MB/s) - ‘./data/green_tripdata_2022-03.parquet’ saved [1615562/1615562]\n",
      "\n"
     ]
    }
   ],
   "source": [
    "!wget -O ./data/green_tripdata_2022-01.parquet https://d37ci6vzurychx.cloudfront.net/trip-data/green_tripdata_2022-01.parquet\n",
    "!wget -O ./data/green_tripdata_2022-02.parquet https://d37ci6vzurychx.cloudfront.net/trip-data/green_tripdata_2022-02.parquet\n",
    "!wget -O ./data/green_tripdata_2022-03.parquet https://d37ci6vzurychx.cloudfront.net/trip-data/green_tripdata_2022-03.parquet"
   ]
  },
  {
   "cell_type": "markdown",
   "id": "319ef3db-ea1c-4c2b-8196-7eeded075f98",
   "metadata": {},
   "source": [
    "#### Q2. DictVectorizer size\n",
    "153.7KB"
   ]
  },
  {
   "cell_type": "code",
   "execution_count": 4,
   "id": "28e86634-2ac0-41fc-a7d7-c2f35b51b4d2",
   "metadata": {},
   "outputs": [
    {
     "name": "stdout",
     "output_type": "stream",
     "text": [
      "\u001b[34m\u001b[1mwandb\u001b[0m: Currently logged in as: \u001b[33malexander-mejinski\u001b[0m. Use \u001b[1m`wandb login --relogin`\u001b[0m to force relogin\n",
      "\u001b[34m\u001b[1mwandb\u001b[0m: Tracking run with wandb version 0.15.3\n",
      "\u001b[34m\u001b[1mwandb\u001b[0m: Run data is saved locally in \u001b[35m\u001b[1m/home/jovyan/work/wandb/run-20230605_142135-p4oh5gsx\u001b[0m\n",
      "\u001b[34m\u001b[1mwandb\u001b[0m: Run \u001b[1m`wandb offline`\u001b[0m to turn off syncing.\n",
      "\u001b[34m\u001b[1mwandb\u001b[0m: Syncing run \u001b[33mprime-salad-1\u001b[0m\n",
      "\u001b[34m\u001b[1mwandb\u001b[0m: ⭐️ View project at \u001b[34m\u001b[4mhttps://wandb.ai/alexander-mejinski/green-taxi-project\u001b[0m\n",
      "\u001b[34m\u001b[1mwandb\u001b[0m: 🚀 View run at \u001b[34m\u001b[4mhttps://wandb.ai/alexander-mejinski/green-taxi-project/runs/p4oh5gsx\u001b[0m\n",
      "\u001b[34m\u001b[1mwandb\u001b[0m: Adding directory to artifact (./output)... Done. 0.0s\n",
      "\u001b[34m\u001b[1mwandb\u001b[0m: Waiting for W&B process to finish... \u001b[32m(success).\u001b[0m\n",
      "\u001b[34m\u001b[1mwandb\u001b[0m: 🚀 View run \u001b[33mprime-salad-1\u001b[0m at: \u001b[34m\u001b[4mhttps://wandb.ai/alexander-mejinski/green-taxi-project/runs/p4oh5gsx\u001b[0m\n",
      "\u001b[34m\u001b[1mwandb\u001b[0m: Synced 6 W&B file(s), 0 media file(s), 4 artifact file(s) and 0 other file(s)\n",
      "\u001b[34m\u001b[1mwandb\u001b[0m: Find logs at: \u001b[35m\u001b[1m./wandb/run-20230605_142135-p4oh5gsx/logs\u001b[0m\n"
     ]
    }
   ],
   "source": [
    "!python preprocess_data.py \\\n",
    "  --wandb_project green-taxi-project \\\n",
    "  --wandb_entity alexander-mejinski \\\n",
    "  --raw_data_path ./data/ \\\n",
    "  --dest_path ./output"
   ]
  },
  {
   "cell_type": "markdown",
   "id": "b7626acd-03e1-48bb-8245-706d51b58f47",
   "metadata": {},
   "source": [
    "#### Q3. Value of max_depth\n",
    "max_depth: 10"
   ]
  },
  {
   "cell_type": "code",
   "execution_count": 5,
   "id": "8128d248-d8ed-41d9-ada8-d54293a11c9a",
   "metadata": {},
   "outputs": [
    {
     "name": "stdout",
     "output_type": "stream",
     "text": [
      "\u001b[34m\u001b[1mwandb\u001b[0m: Currently logged in as: \u001b[33malexander-mejinski\u001b[0m. Use \u001b[1m`wandb login --relogin`\u001b[0m to force relogin\n",
      "\u001b[34m\u001b[1mwandb\u001b[0m: Tracking run with wandb version 0.15.3\n",
      "\u001b[34m\u001b[1mwandb\u001b[0m: Run data is saved locally in \u001b[35m\u001b[1m/home/jovyan/work/wandb/run-20230605_144523-4oxl5sn7\u001b[0m\n",
      "\u001b[34m\u001b[1mwandb\u001b[0m: Run \u001b[1m`wandb offline`\u001b[0m to turn off syncing.\n",
      "\u001b[34m\u001b[1mwandb\u001b[0m: Syncing run \u001b[33myouthful-sunset-2\u001b[0m\n",
      "\u001b[34m\u001b[1mwandb\u001b[0m: ⭐️ View project at \u001b[34m\u001b[4mhttps://wandb.ai/alexander-mejinski/green-taxi-project\u001b[0m\n",
      "\u001b[34m\u001b[1mwandb\u001b[0m: 🚀 View run at \u001b[34m\u001b[4mhttps://wandb.ai/alexander-mejinski/green-taxi-project/runs/4oxl5sn7\u001b[0m\n",
      "\u001b[34m\u001b[1mwandb\u001b[0m:   4 of 4 files downloaded.  \n",
      "\u001b[34m\u001b[1mwandb\u001b[0m: Waiting for W&B process to finish... \u001b[32m(success).\u001b[0m\n",
      "\u001b[34m\u001b[1mwandb\u001b[0m: \n",
      "\u001b[34m\u001b[1mwandb\u001b[0m: Run history:\n",
      "\u001b[34m\u001b[1mwandb\u001b[0m: MSE ▁\n",
      "\u001b[34m\u001b[1mwandb\u001b[0m: \n",
      "\u001b[34m\u001b[1mwandb\u001b[0m: Run summary:\n",
      "\u001b[34m\u001b[1mwandb\u001b[0m: MSE 2.45398\n",
      "\u001b[34m\u001b[1mwandb\u001b[0m: \n",
      "\u001b[34m\u001b[1mwandb\u001b[0m: 🚀 View run \u001b[33myouthful-sunset-2\u001b[0m at: \u001b[34m\u001b[4mhttps://wandb.ai/alexander-mejinski/green-taxi-project/runs/4oxl5sn7\u001b[0m\n",
      "\u001b[34m\u001b[1mwandb\u001b[0m: Synced 6 W&B file(s), 0 media file(s), 1 artifact file(s) and 0 other file(s)\n",
      "\u001b[34m\u001b[1mwandb\u001b[0m: Find logs at: \u001b[35m\u001b[1m./wandb/run-20230605_144523-4oxl5sn7/logs\u001b[0m\n"
     ]
    }
   ],
   "source": [
    "!python train.py \\\n",
    "  --wandb_project green-taxi-project \\\n",
    "  --wandb_entity alexander-mejinski \\\n",
    "  --data_artifact \"alexander-mejinski/green-taxi-project/NYC-Taxi:v0\""
   ]
  },
  {
   "cell_type": "markdown",
   "id": "d6e35f76-5593-4792-84b0-a47bda43da51",
   "metadata": {},
   "source": [
    "#### Q4. The most important hyperparameter is\n",
    "min_samples_leaf with 0.597 importance and -0.942 correlation"
   ]
  },
  {
   "cell_type": "code",
   "execution_count": 6,
   "id": "55ce43f4-e1a7-41fc-978a-03be32b5a3c6",
   "metadata": {},
   "outputs": [
    {
     "name": "stdout",
     "output_type": "stream",
     "text": [
      "Create sweep with ID: acz9dsoo\n",
      "Sweep URL: https://wandb.ai/alexander-mejinski/green-taxi-project/sweeps/acz9dsoo\n",
      "\u001b[34m\u001b[1mwandb\u001b[0m: Agent Starting Run: tcw00arz with config:\n",
      "\u001b[34m\u001b[1mwandb\u001b[0m: \tmax_depth: 7\n",
      "\u001b[34m\u001b[1mwandb\u001b[0m: \tmin_samples_leaf: 1\n",
      "\u001b[34m\u001b[1mwandb\u001b[0m: \tmin_samples_split: 9\n",
      "\u001b[34m\u001b[1mwandb\u001b[0m: \tn_estimators: 10\n",
      "\u001b[34m\u001b[1mwandb\u001b[0m: Currently logged in as: \u001b[33malexander-mejinski\u001b[0m. Use \u001b[1m`wandb login --relogin`\u001b[0m to force relogin\n",
      "\u001b[34m\u001b[1mwandb\u001b[0m: Tracking run with wandb version 0.15.3\n",
      "\u001b[34m\u001b[1mwandb\u001b[0m: Run data is saved locally in \u001b[35m\u001b[1m/home/jovyan/work/wandb/run-20230605_150210-tcw00arz\u001b[0m\n",
      "\u001b[34m\u001b[1mwandb\u001b[0m: Run \u001b[1m`wandb offline`\u001b[0m to turn off syncing.\n",
      "\u001b[34m\u001b[1mwandb\u001b[0m: Syncing run \u001b[33mfanciful-sweep-1\u001b[0m\n",
      "\u001b[34m\u001b[1mwandb\u001b[0m: ⭐️ View project at \u001b[34m\u001b[4mhttps://wandb.ai/alexander-mejinski/green-taxi-project\u001b[0m\n",
      "\u001b[34m\u001b[1mwandb\u001b[0m: 🧹 View sweep at \u001b[34m\u001b[4mhttps://wandb.ai/alexander-mejinski/green-taxi-project/sweeps/acz9dsoo\u001b[0m\n",
      "\u001b[34m\u001b[1mwandb\u001b[0m: 🚀 View run at \u001b[34m\u001b[4mhttps://wandb.ai/alexander-mejinski/green-taxi-project/runs/tcw00arz\u001b[0m\n",
      "\u001b[34m\u001b[1mwandb\u001b[0m:   4 of 4 files downloaded.  \n",
      "\u001b[34m\u001b[1mwandb\u001b[0m: Waiting for W&B process to finish... \u001b[32m(success).\u001b[0m\n",
      "\u001b[34m\u001b[1mwandb\u001b[0m: \n",
      "\u001b[34m\u001b[1mwandb\u001b[0m: Run history:\n",
      "\u001b[34m\u001b[1mwandb\u001b[0m: MSE ▁\n",
      "\u001b[34m\u001b[1mwandb\u001b[0m: \n",
      "\u001b[34m\u001b[1mwandb\u001b[0m: Run summary:\n",
      "\u001b[34m\u001b[1mwandb\u001b[0m: MSE 2.46467\n",
      "\u001b[34m\u001b[1mwandb\u001b[0m: \n",
      "\u001b[34m\u001b[1mwandb\u001b[0m: 🚀 View run \u001b[33mfanciful-sweep-1\u001b[0m at: \u001b[34m\u001b[4mhttps://wandb.ai/alexander-mejinski/green-taxi-project/runs/tcw00arz\u001b[0m\n",
      "\u001b[34m\u001b[1mwandb\u001b[0m: Synced 6 W&B file(s), 0 media file(s), 1 artifact file(s) and 0 other file(s)\n",
      "\u001b[34m\u001b[1mwandb\u001b[0m: Find logs at: \u001b[35m\u001b[1m./wandb/run-20230605_150210-tcw00arz/logs\u001b[0m\n",
      "\u001b[34m\u001b[1mwandb\u001b[0m: Agent Starting Run: hivwqwto with config:\n",
      "\u001b[34m\u001b[1mwandb\u001b[0m: \tmax_depth: 13\n",
      "\u001b[34m\u001b[1mwandb\u001b[0m: \tmin_samples_leaf: 4\n",
      "\u001b[34m\u001b[1mwandb\u001b[0m: \tmin_samples_split: 10\n",
      "\u001b[34m\u001b[1mwandb\u001b[0m: \tn_estimators: 43\n",
      "\u001b[34m\u001b[1mwandb\u001b[0m: Tracking run with wandb version 0.15.3\n",
      "\u001b[34m\u001b[1mwandb\u001b[0m: Run data is saved locally in \u001b[35m\u001b[1m/home/jovyan/work/wandb/run-20230605_150231-hivwqwto\u001b[0m\n",
      "\u001b[34m\u001b[1mwandb\u001b[0m: Run \u001b[1m`wandb offline`\u001b[0m to turn off syncing.\n",
      "\u001b[34m\u001b[1mwandb\u001b[0m: Syncing run \u001b[33mgenerous-sweep-2\u001b[0m\n",
      "\u001b[34m\u001b[1mwandb\u001b[0m: ⭐️ View project at \u001b[34m\u001b[4mhttps://wandb.ai/alexander-mejinski/green-taxi-project\u001b[0m\n",
      "\u001b[34m\u001b[1mwandb\u001b[0m: 🧹 View sweep at \u001b[34m\u001b[4mhttps://wandb.ai/alexander-mejinski/green-taxi-project/sweeps/acz9dsoo\u001b[0m\n",
      "\u001b[34m\u001b[1mwandb\u001b[0m: 🚀 View run at \u001b[34m\u001b[4mhttps://wandb.ai/alexander-mejinski/green-taxi-project/runs/hivwqwto\u001b[0m\n",
      "\u001b[34m\u001b[1mwandb\u001b[0m:   4 of 4 files downloaded.  \n",
      "\u001b[34m\u001b[1mwandb\u001b[0m: Waiting for W&B process to finish... \u001b[32m(success).\u001b[0m\n",
      "\u001b[34m\u001b[1mwandb\u001b[0m: \n",
      "\u001b[34m\u001b[1mwandb\u001b[0m: Run history:\n",
      "\u001b[34m\u001b[1mwandb\u001b[0m: MSE ▁\n",
      "\u001b[34m\u001b[1mwandb\u001b[0m: \n",
      "\u001b[34m\u001b[1mwandb\u001b[0m: Run summary:\n",
      "\u001b[34m\u001b[1mwandb\u001b[0m: MSE 2.44833\n",
      "\u001b[34m\u001b[1mwandb\u001b[0m: \n",
      "\u001b[34m\u001b[1mwandb\u001b[0m: 🚀 View run \u001b[33mgenerous-sweep-2\u001b[0m at: \u001b[34m\u001b[4mhttps://wandb.ai/alexander-mejinski/green-taxi-project/runs/hivwqwto\u001b[0m\n",
      "\u001b[34m\u001b[1mwandb\u001b[0m: Synced 6 W&B file(s), 0 media file(s), 1 artifact file(s) and 0 other file(s)\n",
      "\u001b[34m\u001b[1mwandb\u001b[0m: Find logs at: \u001b[35m\u001b[1m./wandb/run-20230605_150231-hivwqwto/logs\u001b[0m\n",
      "\u001b[34m\u001b[1mwandb\u001b[0m: Sweep Agent: Waiting for job.\n",
      "\u001b[34m\u001b[1mwandb\u001b[0m: Job received.\n",
      "\u001b[34m\u001b[1mwandb\u001b[0m: Agent Starting Run: wloc5wex with config:\n",
      "\u001b[34m\u001b[1mwandb\u001b[0m: \tmax_depth: 15\n",
      "\u001b[34m\u001b[1mwandb\u001b[0m: \tmin_samples_leaf: 4\n",
      "\u001b[34m\u001b[1mwandb\u001b[0m: \tmin_samples_split: 6\n",
      "\u001b[34m\u001b[1mwandb\u001b[0m: \tn_estimators: 12\n",
      "\u001b[34m\u001b[1mwandb\u001b[0m: Tracking run with wandb version 0.15.3\n",
      "\u001b[34m\u001b[1mwandb\u001b[0m: Run data is saved locally in \u001b[35m\u001b[1m/home/jovyan/work/wandb/run-20230605_150303-wloc5wex\u001b[0m\n",
      "\u001b[34m\u001b[1mwandb\u001b[0m: Run \u001b[1m`wandb offline`\u001b[0m to turn off syncing.\n",
      "\u001b[34m\u001b[1mwandb\u001b[0m: Syncing run \u001b[33mpeach-sweep-3\u001b[0m\n",
      "\u001b[34m\u001b[1mwandb\u001b[0m: ⭐️ View project at \u001b[34m\u001b[4mhttps://wandb.ai/alexander-mejinski/green-taxi-project\u001b[0m\n",
      "\u001b[34m\u001b[1mwandb\u001b[0m: 🧹 View sweep at \u001b[34m\u001b[4mhttps://wandb.ai/alexander-mejinski/green-taxi-project/sweeps/acz9dsoo\u001b[0m\n",
      "\u001b[34m\u001b[1mwandb\u001b[0m: 🚀 View run at \u001b[34m\u001b[4mhttps://wandb.ai/alexander-mejinski/green-taxi-project/runs/wloc5wex\u001b[0m\n",
      "\u001b[34m\u001b[1mwandb\u001b[0m:   4 of 4 files downloaded.  \n",
      "\u001b[34m\u001b[1mwandb\u001b[0m: Waiting for W&B process to finish... \u001b[32m(success).\u001b[0m\n",
      "\u001b[34m\u001b[1mwandb\u001b[0m: \n",
      "\u001b[34m\u001b[1mwandb\u001b[0m: Run history:\n",
      "\u001b[34m\u001b[1mwandb\u001b[0m: MSE ▁\n",
      "\u001b[34m\u001b[1mwandb\u001b[0m: \n",
      "\u001b[34m\u001b[1mwandb\u001b[0m: Run summary:\n",
      "\u001b[34m\u001b[1mwandb\u001b[0m: MSE 2.45398\n",
      "\u001b[34m\u001b[1mwandb\u001b[0m: \n",
      "\u001b[34m\u001b[1mwandb\u001b[0m: 🚀 View run \u001b[33mpeach-sweep-3\u001b[0m at: \u001b[34m\u001b[4mhttps://wandb.ai/alexander-mejinski/green-taxi-project/runs/wloc5wex\u001b[0m\n",
      "\u001b[34m\u001b[1mwandb\u001b[0m: Synced 6 W&B file(s), 0 media file(s), 1 artifact file(s) and 0 other file(s)\n",
      "\u001b[34m\u001b[1mwandb\u001b[0m: Find logs at: \u001b[35m\u001b[1m./wandb/run-20230605_150303-wloc5wex/logs\u001b[0m\n",
      "\u001b[34m\u001b[1mwandb\u001b[0m: Agent Starting Run: s19t9ze0 with config:\n",
      "\u001b[34m\u001b[1mwandb\u001b[0m: \tmax_depth: 13\n",
      "\u001b[34m\u001b[1mwandb\u001b[0m: \tmin_samples_leaf: 4\n",
      "\u001b[34m\u001b[1mwandb\u001b[0m: \tmin_samples_split: 9\n",
      "\u001b[34m\u001b[1mwandb\u001b[0m: \tn_estimators: 45\n",
      "\u001b[34m\u001b[1mwandb\u001b[0m: Tracking run with wandb version 0.15.3\n",
      "\u001b[34m\u001b[1mwandb\u001b[0m: Run data is saved locally in \u001b[35m\u001b[1m/home/jovyan/work/wandb/run-20230605_150325-s19t9ze0\u001b[0m\n",
      "\u001b[34m\u001b[1mwandb\u001b[0m: Run \u001b[1m`wandb offline`\u001b[0m to turn off syncing.\n",
      "\u001b[34m\u001b[1mwandb\u001b[0m: Syncing run \u001b[33mglowing-sweep-4\u001b[0m\n",
      "\u001b[34m\u001b[1mwandb\u001b[0m: ⭐️ View project at \u001b[34m\u001b[4mhttps://wandb.ai/alexander-mejinski/green-taxi-project\u001b[0m\n",
      "\u001b[34m\u001b[1mwandb\u001b[0m: 🧹 View sweep at \u001b[34m\u001b[4mhttps://wandb.ai/alexander-mejinski/green-taxi-project/sweeps/acz9dsoo\u001b[0m\n",
      "\u001b[34m\u001b[1mwandb\u001b[0m: 🚀 View run at \u001b[34m\u001b[4mhttps://wandb.ai/alexander-mejinski/green-taxi-project/runs/s19t9ze0\u001b[0m\n",
      "\u001b[34m\u001b[1mwandb\u001b[0m:   4 of 4 files downloaded.  \n",
      "\u001b[34m\u001b[1mwandb\u001b[0m: Waiting for W&B process to finish... \u001b[32m(success).\u001b[0m\n",
      "\u001b[34m\u001b[1mwandb\u001b[0m: \n",
      "\u001b[34m\u001b[1mwandb\u001b[0m: Run history:\n",
      "\u001b[34m\u001b[1mwandb\u001b[0m: MSE ▁\n",
      "\u001b[34m\u001b[1mwandb\u001b[0m: \n",
      "\u001b[34m\u001b[1mwandb\u001b[0m: Run summary:\n",
      "\u001b[34m\u001b[1mwandb\u001b[0m: MSE 2.44869\n",
      "\u001b[34m\u001b[1mwandb\u001b[0m: \n",
      "\u001b[34m\u001b[1mwandb\u001b[0m: 🚀 View run \u001b[33mglowing-sweep-4\u001b[0m at: \u001b[34m\u001b[4mhttps://wandb.ai/alexander-mejinski/green-taxi-project/runs/s19t9ze0\u001b[0m\n",
      "\u001b[34m\u001b[1mwandb\u001b[0m: Synced 6 W&B file(s), 0 media file(s), 1 artifact file(s) and 0 other file(s)\n",
      "\u001b[34m\u001b[1mwandb\u001b[0m: Find logs at: \u001b[35m\u001b[1m./wandb/run-20230605_150325-s19t9ze0/logs\u001b[0m\n",
      "\u001b[34m\u001b[1mwandb\u001b[0m: Sweep Agent: Waiting for job.\n",
      "\u001b[34m\u001b[1mwandb\u001b[0m: Job received.\n",
      "\u001b[34m\u001b[1mwandb\u001b[0m: Agent Starting Run: qkg6akom with config:\n",
      "\u001b[34m\u001b[1mwandb\u001b[0m: \tmax_depth: 18\n",
      "\u001b[34m\u001b[1mwandb\u001b[0m: \tmin_samples_leaf: 4\n",
      "\u001b[34m\u001b[1mwandb\u001b[0m: \tmin_samples_split: 10\n",
      "\u001b[34m\u001b[1mwandb\u001b[0m: \tn_estimators: 50\n",
      "\u001b[34m\u001b[1mwandb\u001b[0m: Tracking run with wandb version 0.15.3\n",
      "\u001b[34m\u001b[1mwandb\u001b[0m: Run data is saved locally in \u001b[35m\u001b[1m/home/jovyan/work/wandb/run-20230605_150356-qkg6akom\u001b[0m\n",
      "\u001b[34m\u001b[1mwandb\u001b[0m: Run \u001b[1m`wandb offline`\u001b[0m to turn off syncing.\n",
      "\u001b[34m\u001b[1mwandb\u001b[0m: Syncing run \u001b[33mwandering-sweep-5\u001b[0m\n",
      "\u001b[34m\u001b[1mwandb\u001b[0m: ⭐️ View project at \u001b[34m\u001b[4mhttps://wandb.ai/alexander-mejinski/green-taxi-project\u001b[0m\n",
      "\u001b[34m\u001b[1mwandb\u001b[0m: 🧹 View sweep at \u001b[34m\u001b[4mhttps://wandb.ai/alexander-mejinski/green-taxi-project/sweeps/acz9dsoo\u001b[0m\n",
      "\u001b[34m\u001b[1mwandb\u001b[0m: 🚀 View run at \u001b[34m\u001b[4mhttps://wandb.ai/alexander-mejinski/green-taxi-project/runs/qkg6akom\u001b[0m\n",
      "\u001b[34m\u001b[1mwandb\u001b[0m:   4 of 4 files downloaded.  \n",
      "\u001b[34m\u001b[1mwandb\u001b[0m: Waiting for W&B process to finish... \u001b[32m(success).\u001b[0m\n",
      "\u001b[34m\u001b[1mwandb\u001b[0m: \n",
      "\u001b[34m\u001b[1mwandb\u001b[0m: Run history:\n",
      "\u001b[34m\u001b[1mwandb\u001b[0m: MSE ▁\n",
      "\u001b[34m\u001b[1mwandb\u001b[0m: \n",
      "\u001b[34m\u001b[1mwandb\u001b[0m: Run summary:\n",
      "\u001b[34m\u001b[1mwandb\u001b[0m: MSE 2.44877\n",
      "\u001b[34m\u001b[1mwandb\u001b[0m: \n",
      "\u001b[34m\u001b[1mwandb\u001b[0m: 🚀 View run \u001b[33mwandering-sweep-5\u001b[0m at: \u001b[34m\u001b[4mhttps://wandb.ai/alexander-mejinski/green-taxi-project/runs/qkg6akom\u001b[0m\n",
      "\u001b[34m\u001b[1mwandb\u001b[0m: Synced 6 W&B file(s), 0 media file(s), 1 artifact file(s) and 0 other file(s)\n",
      "\u001b[34m\u001b[1mwandb\u001b[0m: Find logs at: \u001b[35m\u001b[1m./wandb/run-20230605_150356-qkg6akom/logs\u001b[0m\n"
     ]
    }
   ],
   "source": [
    "!python sweep.py \\\n",
    "  --wandb_project green-taxi-project \\\n",
    "  --wandb_entity alexander-mejinski \\\n",
    "  --data_artifact \"alexander-mejinski/green-taxi-project/NYC-Taxi:v0\""
   ]
  },
  {
   "cell_type": "markdown",
   "id": "0c45a7a5-0cb7-4757-8ebe-d8c15d67b1df",
   "metadata": {},
   "source": [
    "#### Q5. Registered model UI features\n",
    "All of the above"
   ]
  }
 ],
 "metadata": {
  "kernelspec": {
   "display_name": "Python 3 (ipykernel)",
   "language": "python",
   "name": "python3"
  },
  "language_info": {
   "codemirror_mode": {
    "name": "ipython",
    "version": 3
   },
   "file_extension": ".py",
   "mimetype": "text/x-python",
   "name": "python",
   "nbconvert_exporter": "python",
   "pygments_lexer": "ipython3",
   "version": "3.10.11"
  }
 },
 "nbformat": 4,
 "nbformat_minor": 5
}
