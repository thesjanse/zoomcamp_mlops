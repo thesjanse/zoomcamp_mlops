{
 "cells": [
  {
   "cell_type": "markdown",
   "id": "54a730ea-a782-4dd5-9f10-969f6f7042f2",
   "metadata": {},
   "source": [
    "#### Q1. How can you specify a task name?\n",
    "with name parameter as in: @task(retries=3, retry_delay_seconds=2, name=\"Read taxi data\")"
   ]
  },
  {
   "cell_type": "markdown",
   "id": "afc2f8f4-f38a-4ced-a4c5-d3bd38d6e027",
   "metadata": {},
   "source": [
    "#### Q2. Third day of every month at 9am UTC. What’s the cron schedule for that?\n",
    "0 9 3 * *"
   ]
  },
  {
   "cell_type": "markdown",
   "id": "4d209f0f-e98a-4053-8902-9c7eff176934",
   "metadata": {},
   "source": [
    "#### Q3. What’s the final RMSE to five decimal places?\n",
    "validation-rmse:5.19931"
   ]
  },
  {
   "cell_type": "code",
   "execution_count": 1,
   "id": "ce4a1828-73b1-42a7-a271-16a808ff15d1",
   "metadata": {},
   "outputs": [
    {
     "name": "stdout",
     "output_type": "stream",
     "text": [
      "--2023-06-12 18:51:35--  https://d37ci6vzurychx.cloudfront.net/trip-data/green_tripdata_2023-01.parquet\n",
      "Resolving d37ci6vzurychx.cloudfront.net (d37ci6vzurychx.cloudfront.net)... 52.85.114.180, 52.85.114.180, 52.85.114.114, ...\n",
      "Connecting to d37ci6vzurychx.cloudfront.net (d37ci6vzurychx.cloudfront.net)|52.85.114.180|:443... connected.\n",
      "HTTP request sent, awaiting response... 200 OK\n",
      "Length: 1427002 (1.4M) [binary/octet-stream]\n",
      "Saving to: ‘./data/green_tripdata_2023-01.parquet’\n",
      "\n",
      "./data/green_tripda 100%[===================>]   1.36M  1.77MB/s    in 0.8s    \n",
      "\n",
      "2023-06-12 18:51:36 (1.77 MB/s) - ‘./data/green_tripdata_2023-01.parquet’ saved [1427002/1427002]\n",
      "\n",
      "--2023-06-12 18:51:36--  https://d37ci6vzurychx.cloudfront.net/trip-data/green_tripdata_2023-02.parquet\n",
      "Resolving d37ci6vzurychx.cloudfront.net (d37ci6vzurychx.cloudfront.net)... 52.85.114.180, 52.85.114.180, 52.85.114.114, ...\n",
      "Connecting to d37ci6vzurychx.cloudfront.net (d37ci6vzurychx.cloudfront.net)|52.85.114.180|:443... connected.\n",
      "HTTP request sent, awaiting response... 200 OK\n",
      "Length: 1533740 (1.5M) [binary/octet-stream]\n",
      "Saving to: ‘./data/green_tripdata_2023-02.parquet’\n",
      "\n",
      "./data/green_tripda 100%[===================>]   1.46M  3.71MB/s    in 0.4s    \n",
      "\n",
      "2023-06-12 18:51:37 (3.71 MB/s) - ‘./data/green_tripdata_2023-02.parquet’ saved [1533740/1533740]\n",
      "\n",
      "--2023-06-12 18:51:37--  https://d37ci6vzurychx.cloudfront.net/trip-data/green_tripdata_2023-03.parquet\n",
      "Resolving d37ci6vzurychx.cloudfront.net (d37ci6vzurychx.cloudfront.net)... 52.85.114.180, 52.85.114.180, 52.85.114.114, ...\n",
      "Connecting to d37ci6vzurychx.cloudfront.net (d37ci6vzurychx.cloudfront.net)|52.85.114.180|:443... connected.\n",
      "HTTP request sent, awaiting response... 200 OK\n",
      "Length: 1730999 (1.7M) [binary/octet-stream]\n",
      "Saving to: ‘./data/green_tripdata_2023-03.parquet’\n",
      "\n",
      "./data/green_tripda 100%[===================>]   1.65M  1.25MB/s    in 1.3s    \n",
      "\n",
      "2023-06-12 18:51:38 (1.25 MB/s) - ‘./data/green_tripdata_2023-03.parquet’ saved [1730999/1730999]\n",
      "\n"
     ]
    }
   ],
   "source": [
    "# download all the necessary data\n",
    "!wget -O ./data/green_tripdata_2023-01.parquet https://d37ci6vzurychx.cloudfront.net/trip-data/green_tripdata_2023-01.parquet\n",
    "!wget -O ./data/green_tripdata_2023-02.parquet https://d37ci6vzurychx.cloudfront.net/trip-data/green_tripdata_2023-02.parquet\n",
    "!wget -O ./data/green_tripdata_2023-03.parquet https://d37ci6vzurychx.cloudfront.net/trip-data/green_tripdata_2023-03.parquet"
   ]
  },
  {
   "cell_type": "code",
   "execution_count": 20,
   "id": "b269f56e-8611-4bc9-9233-36fc13ee7fe6",
   "metadata": {},
   "outputs": [
    {
     "name": "stdout",
     "output_type": "stream",
     "text": [
      "21:03:20.442 | \u001b[36mINFO\u001b[0m    | prefect.engine - Created flow run\u001b[35m 'daft-lobster'\u001b[0m for flow\u001b[1;35m 'main-flow'\u001b[0m\n",
      "21:03:20.443 | \u001b[36mINFO\u001b[0m    | Flow run\u001b[35m 'daft-lobster'\u001b[0m - View at \u001b[94mhttp://prefect-server:4200/flow-runs/flow-run/1487028f-115d-4feb-84a9-d4c2b61354d5\u001b[0m\n",
      "21:03:20.521 | \u001b[36mINFO\u001b[0m    | Flow run\u001b[35m 'daft-lobster'\u001b[0m - Created task run 'Read Taxi Data-0' for task 'Read Taxi Data'\n",
      "21:03:20.522 | \u001b[36mINFO\u001b[0m    | Flow run\u001b[35m 'daft-lobster'\u001b[0m - Executing 'Read Taxi Data-0' immediately...\n",
      "21:03:20.808 | \u001b[36mINFO\u001b[0m    | Task run 'Read Taxi Data-0' - Finished in state \u001b[32mCompleted\u001b[0m()\n",
      "21:03:20.821 | \u001b[36mINFO\u001b[0m    | Flow run\u001b[35m 'daft-lobster'\u001b[0m - Created task run 'Read Taxi Data-1' for task 'Read Taxi Data'\n",
      "21:03:20.821 | \u001b[36mINFO\u001b[0m    | Flow run\u001b[35m 'daft-lobster'\u001b[0m - Executing 'Read Taxi Data-1' immediately...\n",
      "21:03:20.955 | \u001b[36mINFO\u001b[0m    | Task run 'Read Taxi Data-1' - Finished in state \u001b[32mCompleted\u001b[0m()\n",
      "21:03:20.967 | \u001b[36mINFO\u001b[0m    | Flow run\u001b[35m 'daft-lobster'\u001b[0m - Created task run 'add_features-0' for task 'add_features'\n",
      "21:03:20.968 | \u001b[36mINFO\u001b[0m    | Flow run\u001b[35m 'daft-lobster'\u001b[0m - Executing 'add_features-0' immediately...\n",
      "21:03:21.235 | \u001b[36mINFO\u001b[0m    | Task run 'add_features-0' - Finished in state \u001b[32mCompleted\u001b[0m()\n",
      "21:03:21.248 | \u001b[36mINFO\u001b[0m    | Flow run\u001b[35m 'daft-lobster'\u001b[0m - Created task run 'train_best_model-0' for task 'train_best_model'\n",
      "21:03:21.249 | \u001b[36mINFO\u001b[0m    | Flow run\u001b[35m 'daft-lobster'\u001b[0m - Executing 'train_best_model-0' immediately...\n",
      "[21:03:21] WARNING: /home/conda/feedstock_root/build_artifacts/xgboost-split_1685694755225/work/src/objective/regression_obj.cu:213: reg:linear is now deprecated in favor of reg:squarederror.\n",
      "21:03:21.494 | \u001b[36mINFO\u001b[0m    | Task run 'train_best_model-0' - [0]    validation-rmse:15.01627\n",
      "21:03:21.549 | \u001b[36mINFO\u001b[0m    | Task run 'train_best_model-0' - [1]    validation-rmse:13.77591\n",
      "21:03:21.614 | \u001b[36mINFO\u001b[0m    | Task run 'train_best_model-0' - [2]    validation-rmse:12.66953\n",
      "21:03:21.756 | \u001b[36mINFO\u001b[0m    | Task run 'train_best_model-0' - [3]    validation-rmse:11.68972\n",
      "21:03:21.859 | \u001b[36mINFO\u001b[0m    | Task run 'train_best_model-0' - [4]    validation-rmse:10.81927\n",
      "21:03:21.903 | \u001b[36mINFO\u001b[0m    | Task run 'train_best_model-0' - [5]    validation-rmse:10.05352\n",
      "21:03:21.989 | \u001b[36mINFO\u001b[0m    | Task run 'train_best_model-0' - [6]    validation-rmse:9.37638\n",
      "21:03:22.044 | \u001b[36mINFO\u001b[0m    | Task run 'train_best_model-0' - [7]    validation-rmse:8.78514\n",
      "21:03:22.101 | \u001b[36mINFO\u001b[0m    | Task run 'train_best_model-0' - [8]    validation-rmse:8.26684\n",
      "21:03:22.153 | \u001b[36mINFO\u001b[0m    | Task run 'train_best_model-0' - [9]    validation-rmse:7.81889\n",
      "21:03:22.204 | \u001b[36mINFO\u001b[0m    | Task run 'train_best_model-0' - [10]   validation-rmse:7.42994\n",
      "21:03:22.273 | \u001b[36mINFO\u001b[0m    | Task run 'train_best_model-0' - [11]   validation-rmse:7.09348\n",
      "21:03:22.318 | \u001b[36mINFO\u001b[0m    | Task run 'train_best_model-0' - [12]   validation-rmse:6.80836\n",
      "21:03:22.373 | \u001b[36mINFO\u001b[0m    | Task run 'train_best_model-0' - [13]   validation-rmse:6.56211\n",
      "21:03:22.424 | \u001b[36mINFO\u001b[0m    | Task run 'train_best_model-0' - [14]   validation-rmse:6.35332\n",
      "21:03:22.472 | \u001b[36mINFO\u001b[0m    | Task run 'train_best_model-0' - [15]   validation-rmse:6.17838\n",
      "21:03:22.519 | \u001b[36mINFO\u001b[0m    | Task run 'train_best_model-0' - [16]   validation-rmse:6.02763\n",
      "21:03:22.603 | \u001b[36mINFO\u001b[0m    | Task run 'train_best_model-0' - [17]   validation-rmse:5.90232\n",
      "21:03:22.657 | \u001b[36mINFO\u001b[0m    | Task run 'train_best_model-0' - [18]   validation-rmse:5.79691\n",
      "21:03:22.707 | \u001b[36mINFO\u001b[0m    | Task run 'train_best_model-0' - [19]   validation-rmse:5.70817\n",
      "21:03:22.755 | \u001b[36mINFO\u001b[0m    | Task run 'train_best_model-0' - [20]   validation-rmse:5.63182\n",
      "21:03:22.801 | \u001b[36mINFO\u001b[0m    | Task run 'train_best_model-0' - [21]   validation-rmse:5.56852\n",
      "21:03:22.858 | \u001b[36mINFO\u001b[0m    | Task run 'train_best_model-0' - [22]   validation-rmse:5.51520\n",
      "21:03:22.902 | \u001b[36mINFO\u001b[0m    | Task run 'train_best_model-0' - [23]   validation-rmse:5.47115\n",
      "21:03:22.948 | \u001b[36mINFO\u001b[0m    | Task run 'train_best_model-0' - [24]   validation-rmse:5.43421\n",
      "21:03:22.986 | \u001b[36mINFO\u001b[0m    | Task run 'train_best_model-0' - [25]   validation-rmse:5.40206\n",
      "21:03:23.026 | \u001b[36mINFO\u001b[0m    | Task run 'train_best_model-0' - [26]   validation-rmse:5.37653\n",
      "21:03:23.074 | \u001b[36mINFO\u001b[0m    | Task run 'train_best_model-0' - [27]   validation-rmse:5.35308\n",
      "21:03:23.124 | \u001b[36mINFO\u001b[0m    | Task run 'train_best_model-0' - [28]   validation-rmse:5.33437\n",
      "21:03:23.171 | \u001b[36mINFO\u001b[0m    | Task run 'train_best_model-0' - [29]   validation-rmse:5.31842\n",
      "21:03:23.217 | \u001b[36mINFO\u001b[0m    | Task run 'train_best_model-0' - [30]   validation-rmse:5.30434\n",
      "21:03:23.262 | \u001b[36mINFO\u001b[0m    | Task run 'train_best_model-0' - [31]   validation-rmse:5.29293\n",
      "21:03:23.307 | \u001b[36mINFO\u001b[0m    | Task run 'train_best_model-0' - [32]   validation-rmse:5.28270\n",
      "21:03:23.342 | \u001b[36mINFO\u001b[0m    | Task run 'train_best_model-0' - [33]   validation-rmse:5.27307\n",
      "21:03:23.378 | \u001b[36mINFO\u001b[0m    | Task run 'train_best_model-0' - [34]   validation-rmse:5.26638\n",
      "21:03:23.415 | \u001b[36mINFO\u001b[0m    | Task run 'train_best_model-0' - [35]   validation-rmse:5.26043\n",
      "21:03:23.455 | \u001b[36mINFO\u001b[0m    | Task run 'train_best_model-0' - [36]   validation-rmse:5.25512\n",
      "21:03:23.481 | \u001b[36mINFO\u001b[0m    | Task run 'train_best_model-0' - [37]   validation-rmse:5.25088\n",
      "21:03:23.517 | \u001b[36mINFO\u001b[0m    | Task run 'train_best_model-0' - [38]   validation-rmse:5.24664\n",
      "21:03:23.557 | \u001b[36mINFO\u001b[0m    | Task run 'train_best_model-0' - [39]   validation-rmse:5.24209\n",
      "21:03:23.583 | \u001b[36mINFO\u001b[0m    | Task run 'train_best_model-0' - [40]   validation-rmse:5.23909\n",
      "21:03:23.620 | \u001b[36mINFO\u001b[0m    | Task run 'train_best_model-0' - [41]   validation-rmse:5.23607\n",
      "21:03:23.656 | \u001b[36mINFO\u001b[0m    | Task run 'train_best_model-0' - [42]   validation-rmse:5.23344\n",
      "21:03:23.681 | \u001b[36mINFO\u001b[0m    | Task run 'train_best_model-0' - [43]   validation-rmse:5.23200\n",
      "21:03:23.717 | \u001b[36mINFO\u001b[0m    | Task run 'train_best_model-0' - [44]   validation-rmse:5.23097\n",
      "21:03:23.752 | \u001b[36mINFO\u001b[0m    | Task run 'train_best_model-0' - [45]   validation-rmse:5.22865\n",
      "21:03:23.777 | \u001b[36mINFO\u001b[0m    | Task run 'train_best_model-0' - [46]   validation-rmse:5.22775\n",
      "21:03:23.813 | \u001b[36mINFO\u001b[0m    | Task run 'train_best_model-0' - [47]   validation-rmse:5.22687\n",
      "21:03:23.844 | \u001b[36mINFO\u001b[0m    | Task run 'train_best_model-0' - [48]   validation-rmse:5.22582\n",
      "21:03:23.880 | \u001b[36mINFO\u001b[0m    | Task run 'train_best_model-0' - [49]   validation-rmse:5.22487\n",
      "21:03:23.920 | \u001b[36mINFO\u001b[0m    | Task run 'train_best_model-0' - [50]   validation-rmse:5.22442\n",
      "21:03:23.992 | \u001b[36mINFO\u001b[0m    | Task run 'train_best_model-0' - [51]   validation-rmse:5.22332\n",
      "21:03:24.018 | \u001b[36mINFO\u001b[0m    | Task run 'train_best_model-0' - [52]   validation-rmse:5.22236\n",
      "21:03:24.049 | \u001b[36mINFO\u001b[0m    | Task run 'train_best_model-0' - [53]   validation-rmse:5.22142\n",
      "21:03:24.083 | \u001b[36mINFO\u001b[0m    | Task run 'train_best_model-0' - [54]   validation-rmse:5.22022\n",
      "21:03:24.121 | \u001b[36mINFO\u001b[0m    | Task run 'train_best_model-0' - [55]   validation-rmse:5.21987\n",
      "21:03:24.148 | \u001b[36mINFO\u001b[0m    | Task run 'train_best_model-0' - [56]   validation-rmse:5.21908\n",
      "21:03:24.185 | \u001b[36mINFO\u001b[0m    | Task run 'train_best_model-0' - [57]   validation-rmse:5.21873\n",
      "21:03:24.221 | \u001b[36mINFO\u001b[0m    | Task run 'train_best_model-0' - [58]   validation-rmse:5.21820\n",
      "21:03:24.245 | \u001b[36mINFO\u001b[0m    | Task run 'train_best_model-0' - [59]   validation-rmse:5.21787\n",
      "21:03:24.283 | \u001b[36mINFO\u001b[0m    | Task run 'train_best_model-0' - [60]   validation-rmse:5.21702\n",
      "21:03:24.322 | \u001b[36mINFO\u001b[0m    | Task run 'train_best_model-0' - [61]   validation-rmse:5.21632\n",
      "21:03:24.346 | \u001b[36mINFO\u001b[0m    | Task run 'train_best_model-0' - [62]   validation-rmse:5.21571\n",
      "21:03:24.383 | \u001b[36mINFO\u001b[0m    | Task run 'train_best_model-0' - [63]   validation-rmse:5.21404\n",
      "21:03:24.420 | \u001b[36mINFO\u001b[0m    | Task run 'train_best_model-0' - [64]   validation-rmse:5.21348\n",
      "21:03:24.445 | \u001b[36mINFO\u001b[0m    | Task run 'train_best_model-0' - [65]   validation-rmse:5.21290\n",
      "21:03:24.482 | \u001b[36mINFO\u001b[0m    | Task run 'train_best_model-0' - [66]   validation-rmse:5.21262\n",
      "21:03:24.514 | \u001b[36mINFO\u001b[0m    | Task run 'train_best_model-0' - [67]   validation-rmse:5.21181\n",
      "21:03:24.545 | \u001b[36mINFO\u001b[0m    | Task run 'train_best_model-0' - [68]   validation-rmse:5.21179\n",
      "21:03:24.601 | \u001b[36mINFO\u001b[0m    | Task run 'train_best_model-0' - [69]   validation-rmse:5.21113\n",
      "21:03:24.639 | \u001b[36mINFO\u001b[0m    | Task run 'train_best_model-0' - [70]   validation-rmse:5.21051\n",
      "21:03:24.662 | \u001b[36mINFO\u001b[0m    | Task run 'train_best_model-0' - [71]   validation-rmse:5.21000\n",
      "21:03:24.697 | \u001b[36mINFO\u001b[0m    | Task run 'train_best_model-0' - [72]   validation-rmse:5.20944\n",
      "21:03:24.734 | \u001b[36mINFO\u001b[0m    | Task run 'train_best_model-0' - [73]   validation-rmse:5.20928\n",
      "21:03:24.757 | \u001b[36mINFO\u001b[0m    | Task run 'train_best_model-0' - [74]   validation-rmse:5.20890\n",
      "21:03:24.794 | \u001b[36mINFO\u001b[0m    | Task run 'train_best_model-0' - [75]   validation-rmse:5.20840\n",
      "21:03:24.831 | \u001b[36mINFO\u001b[0m    | Task run 'train_best_model-0' - [76]   validation-rmse:5.20723\n",
      "21:03:24.856 | \u001b[36mINFO\u001b[0m    | Task run 'train_best_model-0' - [77]   validation-rmse:5.20677\n",
      "21:03:24.900 | \u001b[36mINFO\u001b[0m    | Task run 'train_best_model-0' - [78]   validation-rmse:5.20653\n",
      "21:03:24.938 | \u001b[36mINFO\u001b[0m    | Task run 'train_best_model-0' - [79]   validation-rmse:5.20608\n",
      "21:03:24.962 | \u001b[36mINFO\u001b[0m    | Task run 'train_best_model-0' - [80]   validation-rmse:5.20599\n",
      "21:03:25.000 | \u001b[36mINFO\u001b[0m    | Task run 'train_best_model-0' - [81]   validation-rmse:5.20558\n",
      "21:03:25.040 | \u001b[36mINFO\u001b[0m    | Task run 'train_best_model-0' - [82]   validation-rmse:5.20516\n",
      "21:03:25.093 | \u001b[36mINFO\u001b[0m    | Task run 'train_best_model-0' - [83]   validation-rmse:5.20428\n",
      "21:03:25.146 | \u001b[36mINFO\u001b[0m    | Task run 'train_best_model-0' - [84]   validation-rmse:5.20377\n",
      "21:03:25.180 | \u001b[36mINFO\u001b[0m    | Task run 'train_best_model-0' - [85]   validation-rmse:5.20323\n",
      "21:03:25.217 | \u001b[36mINFO\u001b[0m    | Task run 'train_best_model-0' - [86]   validation-rmse:5.20281\n",
      "21:03:25.260 | \u001b[36mINFO\u001b[0m    | Task run 'train_best_model-0' - [87]   validation-rmse:5.20294\n",
      "21:03:25.300 | \u001b[36mINFO\u001b[0m    | Task run 'train_best_model-0' - [88]   validation-rmse:5.20271\n",
      "21:03:25.326 | \u001b[36mINFO\u001b[0m    | Task run 'train_best_model-0' - [89]   validation-rmse:5.20245\n",
      "21:03:25.369 | \u001b[36mINFO\u001b[0m    | Task run 'train_best_model-0' - [90]   validation-rmse:5.20201\n",
      "21:03:25.407 | \u001b[36mINFO\u001b[0m    | Task run 'train_best_model-0' - [91]   validation-rmse:5.20186\n",
      "21:03:25.446 | \u001b[36mINFO\u001b[0m    | Task run 'train_best_model-0' - [92]   validation-rmse:5.20146\n",
      "21:03:25.474 | \u001b[36mINFO\u001b[0m    | Task run 'train_best_model-0' - [93]   validation-rmse:5.20144\n",
      "21:03:25.516 | \u001b[36mINFO\u001b[0m    | Task run 'train_best_model-0' - [94]   validation-rmse:5.20096\n",
      "21:03:25.557 | \u001b[36mINFO\u001b[0m    | Task run 'train_best_model-0' - [95]   validation-rmse:5.20087\n",
      "21:03:25.581 | \u001b[36mINFO\u001b[0m    | Task run 'train_best_model-0' - [96]   validation-rmse:5.20016\n",
      "21:03:25.623 | \u001b[36mINFO\u001b[0m    | Task run 'train_best_model-0' - [97]   validation-rmse:5.19983\n",
      "21:03:25.654 | \u001b[36mINFO\u001b[0m    | Task run 'train_best_model-0' - [98]   validation-rmse:5.19931\n",
      "21:03:25.682 | \u001b[36mINFO\u001b[0m    | Task run 'train_best_model-0' - [99]   validation-rmse:5.19931\n",
      "/opt/conda/lib/python3.10/site-packages/_distutils_hack/__init__.py:33: UserWarning: Setuptools is replacing distutils.\n",
      "  warnings.warn(\"Setuptools is replacing distutils.\")\n",
      "21:03:27.251 | \u001b[36mINFO\u001b[0m    | Task run 'train_best_model-0' - Finished in state \u001b[32mCompleted\u001b[0m()\n",
      "21:03:27.268 | \u001b[36mINFO\u001b[0m    | Flow run\u001b[35m 'daft-lobster'\u001b[0m - Finished in state \u001b[32mCompleted\u001b[0m('All states completed.')\n"
     ]
    }
   ],
   "source": [
    "!python orchestrate.py"
   ]
  },
  {
   "cell_type": "markdown",
   "id": "d4ba85fa-5521-441f-8568-cc38eba50212",
   "metadata": {},
   "source": [
    "#### Q4. What’s the RMSE in the artifact to two decimal places ?\n",
    "5.37449 i.e. 5.37"
   ]
  },
  {
   "cell_type": "code",
   "execution_count": 3,
   "id": "06211377-34cf-4142-8a9c-8b67f5472423",
   "metadata": {},
   "outputs": [
    {
     "name": "stdout",
     "output_type": "stream",
     "text": [
      "Collecting s3fs\n",
      "  Downloading s3fs-2023.6.0-py3-none-any.whl (28 kB)\n",
      "Collecting aiobotocore~=2.5.0 (from s3fs)\n",
      "  Downloading aiobotocore-2.5.0-py3-none-any.whl (72 kB)\n",
      "\u001b[2K     \u001b[90m━━━━━━━━━━━━━━━━━━━━━━━━━━━━━━━━━━━━━━━━\u001b[0m \u001b[32m72.7/72.7 kB\u001b[0m \u001b[31m1.6 MB/s\u001b[0m eta \u001b[36m0:00:00\u001b[0m00:01\u001b[0m\n",
      "\u001b[?25hCollecting fsspec==2023.6.0 (from s3fs)\n",
      "  Downloading fsspec-2023.6.0-py3-none-any.whl (163 kB)\n",
      "\u001b[2K     \u001b[90m━━━━━━━━━━━━━━━━━━━━━━━━━━━━━━━━━━━━━━━\u001b[0m \u001b[32m163.8/163.8 kB\u001b[0m \u001b[31m4.3 MB/s\u001b[0m eta \u001b[36m0:00:00\u001b[0ma \u001b[36m0:00:01\u001b[0m\n",
      "\u001b[?25hRequirement already satisfied: aiohttp!=4.0.0a0,!=4.0.0a1 in /opt/conda/lib/python3.10/site-packages (from s3fs) (3.8.4)\n",
      "Collecting botocore<1.29.77,>=1.29.76 (from aiobotocore~=2.5.0->s3fs)\n",
      "  Downloading botocore-1.29.76-py3-none-any.whl (10.4 MB)\n",
      "\u001b[2K     \u001b[90m━━━━━━━━━━━━━━━━━━━━━━━━━━━━━━━━━━━━━━━━\u001b[0m \u001b[32m10.4/10.4 MB\u001b[0m \u001b[31m27.6 MB/s\u001b[0m eta \u001b[36m0:00:00\u001b[0m00:01\u001b[0m0:01\u001b[0m\n",
      "\u001b[?25hCollecting wrapt>=1.10.10 (from aiobotocore~=2.5.0->s3fs)\n",
      "  Downloading wrapt-1.15.0-cp310-cp310-manylinux_2_5_x86_64.manylinux1_x86_64.manylinux_2_17_x86_64.manylinux2014_x86_64.whl (78 kB)\n",
      "\u001b[2K     \u001b[90m━━━━━━━━━━━━━━━━━━━━━━━━━━━━━━━━━━━━━━━━\u001b[0m \u001b[32m78.4/78.4 kB\u001b[0m \u001b[31m16.2 MB/s\u001b[0m eta \u001b[36m0:00:00\u001b[0m\n",
      "\u001b[?25hCollecting aioitertools>=0.5.1 (from aiobotocore~=2.5.0->s3fs)\n",
      "  Downloading aioitertools-0.11.0-py3-none-any.whl (23 kB)\n",
      "Requirement already satisfied: attrs>=17.3.0 in /opt/conda/lib/python3.10/site-packages (from aiohttp!=4.0.0a0,!=4.0.0a1->s3fs) (23.1.0)\n",
      "Requirement already satisfied: charset-normalizer<4.0,>=2.0 in /opt/conda/lib/python3.10/site-packages (from aiohttp!=4.0.0a0,!=4.0.0a1->s3fs) (3.1.0)\n",
      "Requirement already satisfied: multidict<7.0,>=4.5 in /opt/conda/lib/python3.10/site-packages (from aiohttp!=4.0.0a0,!=4.0.0a1->s3fs) (6.0.4)\n",
      "Requirement already satisfied: async-timeout<5.0,>=4.0.0a3 in /opt/conda/lib/python3.10/site-packages (from aiohttp!=4.0.0a0,!=4.0.0a1->s3fs) (4.0.2)\n",
      "Requirement already satisfied: yarl<2.0,>=1.0 in /opt/conda/lib/python3.10/site-packages (from aiohttp!=4.0.0a0,!=4.0.0a1->s3fs) (1.9.2)\n",
      "Requirement already satisfied: frozenlist>=1.1.1 in /opt/conda/lib/python3.10/site-packages (from aiohttp!=4.0.0a0,!=4.0.0a1->s3fs) (1.3.3)\n",
      "Requirement already satisfied: aiosignal>=1.1.2 in /opt/conda/lib/python3.10/site-packages (from aiohttp!=4.0.0a0,!=4.0.0a1->s3fs) (1.3.1)\n",
      "Requirement already satisfied: jmespath<2.0.0,>=0.7.1 in /opt/conda/lib/python3.10/site-packages (from botocore<1.29.77,>=1.29.76->aiobotocore~=2.5.0->s3fs) (1.0.1)\n",
      "Requirement already satisfied: python-dateutil<3.0.0,>=2.1 in /opt/conda/lib/python3.10/site-packages (from botocore<1.29.77,>=1.29.76->aiobotocore~=2.5.0->s3fs) (2.8.2)\n",
      "Requirement already satisfied: urllib3<1.27,>=1.25.4 in /opt/conda/lib/python3.10/site-packages (from botocore<1.29.77,>=1.29.76->aiobotocore~=2.5.0->s3fs) (1.26.15)\n",
      "Requirement already satisfied: idna>=2.0 in /opt/conda/lib/python3.10/site-packages (from yarl<2.0,>=1.0->aiohttp!=4.0.0a0,!=4.0.0a1->s3fs) (3.4)\n",
      "Requirement already satisfied: six>=1.5 in /opt/conda/lib/python3.10/site-packages (from python-dateutil<3.0.0,>=2.1->botocore<1.29.77,>=1.29.76->aiobotocore~=2.5.0->s3fs) (1.16.0)\n",
      "Installing collected packages: wrapt, fsspec, aioitertools, botocore, aiobotocore, s3fs\n",
      "  Attempting uninstall: fsspec\n",
      "    Found existing installation: fsspec 2023.5.0\n",
      "    Uninstalling fsspec-2023.5.0:\n",
      "      Successfully uninstalled fsspec-2023.5.0\n",
      "  Attempting uninstall: botocore\n",
      "    Found existing installation: botocore 1.29.151\n",
      "    Uninstalling botocore-1.29.151:\n",
      "      Successfully uninstalled botocore-1.29.151\n",
      "\u001b[31mERROR: pip's dependency resolver does not currently take into account all the packages that are installed. This behaviour is the source of the following dependency conflicts.\n",
      "boto3 1.26.151 requires botocore<1.30.0,>=1.29.151, but you have botocore 1.29.76 which is incompatible.\u001b[0m\u001b[31m\n",
      "\u001b[0mSuccessfully installed aiobotocore-2.5.0 aioitertools-0.11.0 botocore-1.29.76 fsspec-2023.6.0 s3fs-2023.6.0 wrapt-1.15.0\n"
     ]
    }
   ],
   "source": [
    "!pip install s3fs"
   ]
  },
  {
   "cell_type": "code",
   "execution_count": 4,
   "id": "ea2033f8-df37-4f2a-b248-518bf48f14f1",
   "metadata": {},
   "outputs": [],
   "source": [
    "!python markdown_artifact.py"
   ]
  },
  {
   "cell_type": "markdown",
   "id": "6158d4fb-8830-410d-bcbb-d9f78b40ec12",
   "metadata": {},
   "source": [
    "#### Q5. What is the name of the pre-built prefect-email task function?\n",
    "email_send_message"
   ]
  },
  {
   "cell_type": "code",
   "execution_count": 1,
   "id": "ca871bd1-8d2d-4981-9055-b7aba99fc60f",
   "metadata": {},
   "outputs": [
    {
     "name": "stdout",
     "output_type": "stream",
     "text": [
      "Collecting prefect-email\n",
      "  Downloading prefect_email-0.2.2-py3-none-any.whl (11 kB)\n",
      "Requirement already satisfied: prefect>=2.0.0 in /opt/conda/lib/python3.10/site-packages (from prefect-email) (2.10.13)\n",
      "Requirement already satisfied: aiosqlite>=0.17.0 in /opt/conda/lib/python3.10/site-packages (from prefect>=2.0.0->prefect-email) (0.19.0)\n",
      "Requirement already satisfied: alembic>=1.7.5 in /opt/conda/lib/python3.10/site-packages (from prefect>=2.0.0->prefect-email) (1.11.1)\n",
      "Requirement already satisfied: anyio>=3.4.0 in /opt/conda/lib/python3.10/site-packages (from prefect>=2.0.0->prefect-email) (3.6.2)\n",
      "Requirement already satisfied: apprise>=1.1.0 in /opt/conda/lib/python3.10/site-packages (from prefect>=2.0.0->prefect-email) (1.4.0)\n",
      "Requirement already satisfied: asgi-lifespan>=1.0 in /opt/conda/lib/python3.10/site-packages (from prefect>=2.0.0->prefect-email) (2.1.0)\n",
      "Requirement already satisfied: asyncpg>=0.23 in /opt/conda/lib/python3.10/site-packages (from prefect>=2.0.0->prefect-email) (0.27.0)\n",
      "Requirement already satisfied: click<8.2,>=8.0 in /opt/conda/lib/python3.10/site-packages (from prefect>=2.0.0->prefect-email) (8.1.3)\n",
      "Requirement already satisfied: cloudpickle>=2.0 in /opt/conda/lib/python3.10/site-packages (from prefect>=2.0.0->prefect-email) (2.2.1)\n",
      "Requirement already satisfied: coolname>=1.0.4 in /opt/conda/lib/python3.10/site-packages (from prefect>=2.0.0->prefect-email) (2.2.0)\n",
      "Requirement already satisfied: croniter>=1.0.12 in /opt/conda/lib/python3.10/site-packages (from prefect>=2.0.0->prefect-email) (1.3.15)\n",
      "Requirement already satisfied: cryptography>=36.0.1 in /opt/conda/lib/python3.10/site-packages (from prefect>=2.0.0->prefect-email) (40.0.2)\n",
      "Requirement already satisfied: dateparser>=1.1.1 in /opt/conda/lib/python3.10/site-packages (from prefect>=2.0.0->prefect-email) (1.1.8)\n",
      "Requirement already satisfied: docker>=4.0 in /opt/conda/lib/python3.10/site-packages (from prefect>=2.0.0->prefect-email) (6.1.0)\n",
      "Requirement already satisfied: fastapi>=0.93 in /opt/conda/lib/python3.10/site-packages (from prefect>=2.0.0->prefect-email) (0.97.0)\n",
      "Requirement already satisfied: fsspec>=2022.5.0 in /opt/conda/lib/python3.10/site-packages (from prefect>=2.0.0->prefect-email) (2023.5.0)\n",
      "Requirement already satisfied: griffe>=0.20.0 in /opt/conda/lib/python3.10/site-packages (from prefect>=2.0.0->prefect-email) (0.21.0)\n",
      "Requirement already satisfied: httpx[http2]!=0.23.2,>=0.23 in /opt/conda/lib/python3.10/site-packages (from prefect>=2.0.0->prefect-email) (0.24.1)\n",
      "Requirement already satisfied: jinja2>=3.0.0 in /opt/conda/lib/python3.10/site-packages (from prefect>=2.0.0->prefect-email) (3.1.2)\n",
      "Requirement already satisfied: jsonpatch>=1.32 in /opt/conda/lib/python3.10/site-packages (from prefect>=2.0.0->prefect-email) (1.32)\n",
      "Requirement already satisfied: jsonschema<5.0.0,>=3.2.0 in /opt/conda/lib/python3.10/site-packages (from prefect>=2.0.0->prefect-email) (4.17.3)\n",
      "Requirement already satisfied: kubernetes>=24.2.0 in /opt/conda/lib/python3.10/site-packages (from prefect>=2.0.0->prefect-email) (26.1.0)\n",
      "Requirement already satisfied: orjson>=3.7 in /opt/conda/lib/python3.10/site-packages (from prefect>=2.0.0->prefect-email) (3.9.1)\n",
      "Requirement already satisfied: packaging>=21.3 in /opt/conda/lib/python3.10/site-packages (from prefect>=2.0.0->prefect-email) (23.1)\n",
      "Requirement already satisfied: pathspec>=0.8.0 in /opt/conda/lib/python3.10/site-packages (from prefect>=2.0.0->prefect-email) (0.11.1)\n",
      "Requirement already satisfied: pendulum>=2.1.2 in /opt/conda/lib/python3.10/site-packages (from prefect>=2.0.0->prefect-email) (2.1.2)\n",
      "Requirement already satisfied: pydantic>=1.10.0 in /opt/conda/lib/python3.10/site-packages (from prefect>=2.0.0->prefect-email) (1.10.9)\n",
      "Requirement already satisfied: python-slugify>=5.0 in /opt/conda/lib/python3.10/site-packages (from prefect>=2.0.0->prefect-email) (8.0.1)\n",
      "Requirement already satisfied: pytz>=2021.1 in /opt/conda/lib/python3.10/site-packages (from prefect>=2.0.0->prefect-email) (2023.3)\n",
      "Requirement already satisfied: pyyaml>=5.4.1 in /opt/conda/lib/python3.10/site-packages (from prefect>=2.0.0->prefect-email) (6.0)\n",
      "Requirement already satisfied: readchar>=4.0.0 in /opt/conda/lib/python3.10/site-packages (from prefect>=2.0.0->prefect-email) (4.0.5.dev0)\n",
      "Requirement already satisfied: rich>=11.0 in /opt/conda/lib/python3.10/site-packages (from prefect>=2.0.0->prefect-email) (13.4.2)\n",
      "Requirement already satisfied: sqlalchemy[asyncio]!=1.4.33,>=1.4.22 in /opt/conda/lib/python3.10/site-packages (from prefect>=2.0.0->prefect-email) (1.4.46)\n",
      "Requirement already satisfied: toml>=0.10.0 in /opt/conda/lib/python3.10/site-packages (from prefect>=2.0.0->prefect-email) (0.10.2)\n",
      "Requirement already satisfied: typer>=0.4.2 in /opt/conda/lib/python3.10/site-packages (from prefect>=2.0.0->prefect-email) (0.9.0)\n",
      "Requirement already satisfied: typing-extensions>=4.1.0 in /opt/conda/lib/python3.10/site-packages (from prefect>=2.0.0->prefect-email) (4.6.2)\n",
      "Requirement already satisfied: uvicorn>=0.14.0 in /opt/conda/lib/python3.10/site-packages (from prefect>=2.0.0->prefect-email) (0.22.0)\n",
      "Requirement already satisfied: websockets>=10.4 in /opt/conda/lib/python3.10/site-packages (from prefect>=2.0.0->prefect-email) (11.0.3)\n",
      "Requirement already satisfied: Mako in /opt/conda/lib/python3.10/site-packages (from alembic>=1.7.5->prefect>=2.0.0->prefect-email) (1.2.4)\n",
      "Requirement already satisfied: idna>=2.8 in /opt/conda/lib/python3.10/site-packages (from anyio>=3.4.0->prefect>=2.0.0->prefect-email) (3.4)\n",
      "Requirement already satisfied: sniffio>=1.1 in /opt/conda/lib/python3.10/site-packages (from anyio>=3.4.0->prefect>=2.0.0->prefect-email) (1.3.0)\n",
      "Requirement already satisfied: certifi in /opt/conda/lib/python3.10/site-packages (from apprise>=1.1.0->prefect>=2.0.0->prefect-email) (2023.5.7)\n",
      "Requirement already satisfied: requests in /opt/conda/lib/python3.10/site-packages (from apprise>=1.1.0->prefect>=2.0.0->prefect-email) (2.31.0)\n",
      "Requirement already satisfied: requests-oauthlib in /opt/conda/lib/python3.10/site-packages (from apprise>=1.1.0->prefect>=2.0.0->prefect-email) (1.3.1)\n",
      "Requirement already satisfied: markdown in /opt/conda/lib/python3.10/site-packages (from apprise>=1.1.0->prefect>=2.0.0->prefect-email) (3.4.3)\n",
      "Requirement already satisfied: python-dateutil in /opt/conda/lib/python3.10/site-packages (from croniter>=1.0.12->prefect>=2.0.0->prefect-email) (2.8.2)\n",
      "Requirement already satisfied: cffi>=1.12 in /opt/conda/lib/python3.10/site-packages (from cryptography>=36.0.1->prefect>=2.0.0->prefect-email) (1.15.1)\n",
      "Requirement already satisfied: regex!=2019.02.19,!=2021.8.27 in /opt/conda/lib/python3.10/site-packages (from dateparser>=1.1.1->prefect>=2.0.0->prefect-email) (2023.6.3)\n",
      "Requirement already satisfied: tzlocal in /opt/conda/lib/python3.10/site-packages (from dateparser>=1.1.1->prefect>=2.0.0->prefect-email) (5.0.1)\n",
      "Requirement already satisfied: urllib3>=1.26.0 in /opt/conda/lib/python3.10/site-packages (from docker>=4.0->prefect>=2.0.0->prefect-email) (1.26.15)\n",
      "Requirement already satisfied: websocket-client>=0.32.0 in /opt/conda/lib/python3.10/site-packages (from docker>=4.0->prefect>=2.0.0->prefect-email) (1.5.2)\n",
      "Requirement already satisfied: starlette<0.28.0,>=0.27.0 in /opt/conda/lib/python3.10/site-packages (from fastapi>=0.93->prefect>=2.0.0->prefect-email) (0.27.0)\n",
      "Requirement already satisfied: httpcore<0.18.0,>=0.15.0 in /opt/conda/lib/python3.10/site-packages (from httpx[http2]!=0.23.2,>=0.23->prefect>=2.0.0->prefect-email) (0.17.2)\n",
      "Requirement already satisfied: h2<5,>=3 in /opt/conda/lib/python3.10/site-packages (from httpx[http2]!=0.23.2,>=0.23->prefect>=2.0.0->prefect-email) (4.1.0)\n",
      "Requirement already satisfied: MarkupSafe>=2.0 in /opt/conda/lib/python3.10/site-packages (from jinja2>=3.0.0->prefect>=2.0.0->prefect-email) (2.1.2)\n",
      "Requirement already satisfied: jsonpointer>=1.9 in /opt/conda/lib/python3.10/site-packages (from jsonpatch>=1.32->prefect>=2.0.0->prefect-email) (2.0)\n",
      "Requirement already satisfied: attrs>=17.4.0 in /opt/conda/lib/python3.10/site-packages (from jsonschema<5.0.0,>=3.2.0->prefect>=2.0.0->prefect-email) (23.1.0)\n",
      "Requirement already satisfied: pyrsistent!=0.17.0,!=0.17.1,!=0.17.2,>=0.14.0 in /opt/conda/lib/python3.10/site-packages (from jsonschema<5.0.0,>=3.2.0->prefect>=2.0.0->prefect-email) (0.19.3)\n",
      "Requirement already satisfied: six>=1.9.0 in /opt/conda/lib/python3.10/site-packages (from kubernetes>=24.2.0->prefect>=2.0.0->prefect-email) (1.16.0)\n",
      "Requirement already satisfied: setuptools>=21.0.0 in /opt/conda/lib/python3.10/site-packages (from kubernetes>=24.2.0->prefect>=2.0.0->prefect-email) (67.7.2)\n",
      "Requirement already satisfied: google-auth>=1.0.1 in /opt/conda/lib/python3.10/site-packages (from kubernetes>=24.2.0->prefect>=2.0.0->prefect-email) (2.19.1)\n",
      "Requirement already satisfied: pytzdata>=2020.1 in /opt/conda/lib/python3.10/site-packages (from pendulum>=2.1.2->prefect>=2.0.0->prefect-email) (2020.1)\n",
      "Requirement already satisfied: text-unidecode>=1.3 in /opt/conda/lib/python3.10/site-packages (from python-slugify>=5.0->prefect>=2.0.0->prefect-email) (1.3)\n",
      "Requirement already satisfied: markdown-it-py>=2.2.0 in /opt/conda/lib/python3.10/site-packages (from rich>=11.0->prefect>=2.0.0->prefect-email) (3.0.0)\n",
      "Requirement already satisfied: pygments<3.0.0,>=2.13.0 in /opt/conda/lib/python3.10/site-packages (from rich>=11.0->prefect>=2.0.0->prefect-email) (2.15.1)\n",
      "Requirement already satisfied: greenlet!=0.4.17 in /opt/conda/lib/python3.10/site-packages (from sqlalchemy[asyncio]!=1.4.33,>=1.4.22->prefect>=2.0.0->prefect-email) (2.0.2)\n",
      "Requirement already satisfied: h11>=0.8 in /opt/conda/lib/python3.10/site-packages (from uvicorn>=0.14.0->prefect>=2.0.0->prefect-email) (0.14.0)\n",
      "Requirement already satisfied: pycparser in /opt/conda/lib/python3.10/site-packages (from cffi>=1.12->cryptography>=36.0.1->prefect>=2.0.0->prefect-email) (2.21)\n",
      "Requirement already satisfied: cachetools<6.0,>=2.0.0 in /opt/conda/lib/python3.10/site-packages (from google-auth>=1.0.1->kubernetes>=24.2.0->prefect>=2.0.0->prefect-email) (5.3.0)\n",
      "Requirement already satisfied: pyasn1-modules>=0.2.1 in /opt/conda/lib/python3.10/site-packages (from google-auth>=1.0.1->kubernetes>=24.2.0->prefect>=2.0.0->prefect-email) (0.2.7)\n",
      "Requirement already satisfied: rsa<5,>=3.1.4 in /opt/conda/lib/python3.10/site-packages (from google-auth>=1.0.1->kubernetes>=24.2.0->prefect>=2.0.0->prefect-email) (4.9)\n",
      "Requirement already satisfied: hyperframe<7,>=6.0 in /opt/conda/lib/python3.10/site-packages (from h2<5,>=3->httpx[http2]!=0.23.2,>=0.23->prefect>=2.0.0->prefect-email) (6.0.1)\n",
      "Requirement already satisfied: hpack<5,>=4.0 in /opt/conda/lib/python3.10/site-packages (from h2<5,>=3->httpx[http2]!=0.23.2,>=0.23->prefect>=2.0.0->prefect-email) (4.0.0)\n",
      "Requirement already satisfied: mdurl~=0.1 in /opt/conda/lib/python3.10/site-packages (from markdown-it-py>=2.2.0->rich>=11.0->prefect>=2.0.0->prefect-email) (0.1.0)\n",
      "Requirement already satisfied: charset-normalizer<4,>=2 in /opt/conda/lib/python3.10/site-packages (from requests->apprise>=1.1.0->prefect>=2.0.0->prefect-email) (3.1.0)\n",
      "Requirement already satisfied: oauthlib>=3.0.0 in /opt/conda/lib/python3.10/site-packages (from requests-oauthlib->apprise>=1.1.0->prefect>=2.0.0->prefect-email) (3.2.2)\n",
      "Requirement already satisfied: pyasn1<0.5.0,>=0.4.6 in /opt/conda/lib/python3.10/site-packages (from pyasn1-modules>=0.2.1->google-auth>=1.0.1->kubernetes>=24.2.0->prefect>=2.0.0->prefect-email) (0.4.8)\n",
      "Installing collected packages: prefect-email\n",
      "Successfully installed prefect-email-0.2.2\n"
     ]
    }
   ],
   "source": [
    "!pip install prefect-email"
   ]
  },
  {
   "cell_type": "code",
   "execution_count": 3,
   "id": "0e27273f-c3a1-4fe8-83c2-22299524d8e7",
   "metadata": {},
   "outputs": [
    {
     "name": "stdout",
     "output_type": "stream",
     "text": [
      "\u001b[32mSuccessfully registered 1 block\u001b[0m\n",
      "\n",
      "┏━━━━━━━━━━━━━━━━━━━━━━━━━━┓\n",
      "┃\u001b[1m \u001b[0m\u001b[1mRegistered Blocks       \u001b[0m\u001b[1m \u001b[0m┃\n",
      "┡━━━━━━━━━━━━━━━━━━━━━━━━━━┩\n",
      "│ Email Server Credentials │\n",
      "└──────────────────────────┘\n",
      "\n",
      " To configure the newly registered blocks, go to the Blocks page in the Prefect \n",
      "UI: http://prefect-server:4200/blocks/catalog\n",
      "\n"
     ]
    }
   ],
   "source": [
    "!prefect block register -m prefect_email"
   ]
  },
  {
   "cell_type": "code",
   "execution_count": 12,
   "id": "d10385b0-05ad-4314-a6ab-1d225d1ce4f8",
   "metadata": {},
   "outputs": [],
   "source": [
    "!python markdown_artifact.py"
   ]
  },
  {
   "cell_type": "markdown",
   "id": "b50443bc-e462-475b-a353-f80e336159a3",
   "metadata": {},
   "source": [
    "#### Q6. What is the second step in prefect cloud automation process?\n",
    "Actions"
   ]
  }
 ],
 "metadata": {
  "kernelspec": {
   "display_name": "Python 3 (ipykernel)",
   "language": "python",
   "name": "python3"
  },
  "language_info": {
   "codemirror_mode": {
    "name": "ipython",
    "version": 3
   },
   "file_extension": ".py",
   "mimetype": "text/x-python",
   "name": "python",
   "nbconvert_exporter": "python",
   "pygments_lexer": "ipython3",
   "version": "3.10.11"
  }
 },
 "nbformat": 4,
 "nbformat_minor": 5
}
