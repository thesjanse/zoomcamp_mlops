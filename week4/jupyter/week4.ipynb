{
 "cells": [
  {
   "cell_type": "markdown",
   "id": "77b1fd82-24ac-42fb-9dc2-47ed50cd1342",
   "metadata": {},
   "source": [
    "#### Q1. What's the standard deviation of the predicted duration for this dataset?\n",
    "5.28"
   ]
  },
  {
   "cell_type": "code",
   "execution_count": 6,
   "id": "14379d32-01dc-4ef7-afa8-4593e82046f5",
   "metadata": {},
   "outputs": [
    {
     "name": "stdout",
     "output_type": "stream",
     "text": [
      "5.28140357655334\n"
     ]
    }
   ],
   "source": [
    "!python ./scripts/std.py 2022 02"
   ]
  },
  {
   "cell_type": "markdown",
   "id": "d83bad88-b3e3-4759-ad62-e0569a96070f",
   "metadata": {},
   "source": [
    "#### Q2. What is the size of the parquet file?\n",
    "58M"
   ]
  },
  {
   "cell_type": "code",
   "execution_count": 12,
   "id": "bf93a9f5-6962-4e2d-af1c-28f851b9887b",
   "metadata": {},
   "outputs": [],
   "source": [
    "!python ./scripts/save_parquet.py 2022 02"
   ]
  },
  {
   "cell_type": "markdown",
   "id": "1c358660-968f-48c9-8b2b-1dd751c8a420",
   "metadata": {},
   "source": [
    "#### Q3. What is the command to create scoring script?\n",
    "jupyter nbconvert --to script score.ipynb"
   ]
  },
  {
   "cell_type": "code",
   "execution_count": 13,
   "id": "d978363b-7b37-47b8-a7c4-ad18ba7967cc",
   "metadata": {},
   "outputs": [
    {
     "name": "stdout",
     "output_type": "stream",
     "text": [
      "[NbConvertApp] Converting notebook week4.ipynb to script\n",
      "[NbConvertApp] Writing 490 bytes to week4.py\n"
     ]
    }
   ],
   "source": [
    "!jupyter nbconvert --to script week4.ipynb"
   ]
  },
  {
   "cell_type": "markdown",
   "id": "200baef8-7ca6-40db-bc4f-12ba8d644d3b",
   "metadata": {},
   "source": [
    "#### Q4. What's the first hash for the Scikit-Learn dependency?\n",
    "sha256:065e9673e24e0dc5113e2dd2b4ca30c9d8aa2fa90f4c0597241c93b63130d233"
   ]
  },
  {
   "cell_type": "code",
   "execution_count": 2,
   "id": "e6c6a6d8-5c96-459f-9546-0a2722347f8d",
   "metadata": {},
   "outputs": [
    {
     "name": "stdout",
     "output_type": "stream",
     "text": [
      "Collecting pipenv\n",
      "  Downloading pipenv-2023.6.18-py3-none-any.whl (2.9 MB)\n",
      "\u001b[2K     \u001b[90m━━━━━━━━━━━━━━━━━━━━━━━━━━━━━━━━━━━━━━━━\u001b[0m \u001b[32m2.9/2.9 MB\u001b[0m \u001b[31m12.6 MB/s\u001b[0m eta \u001b[36m0:00:00\u001b[0ma \u001b[36m0:00:01\u001b[0m\n",
      "\u001b[?25hRequirement already satisfied: certifi in /opt/conda/lib/python3.10/site-packages (from pipenv) (2023.5.7)\n",
      "Requirement already satisfied: setuptools>=67.0.0 in /opt/conda/lib/python3.10/site-packages (from pipenv) (67.7.2)\n",
      "Collecting virtualenv-clone>=0.2.5 (from pipenv)\n",
      "  Downloading virtualenv_clone-0.5.7-py3-none-any.whl (6.6 kB)\n",
      "Collecting virtualenv>=20.17.1 (from pipenv)\n",
      "  Downloading virtualenv-20.23.1-py3-none-any.whl (3.3 MB)\n",
      "\u001b[2K     \u001b[90m━━━━━━━━━━━━━━━━━━━━━━━━━━━━━━━━━━━━━━━━\u001b[0m \u001b[32m3.3/3.3 MB\u001b[0m \u001b[31m14.2 MB/s\u001b[0m eta \u001b[36m0:00:00\u001b[0ma \u001b[36m0:00:01\u001b[0m\n",
      "\u001b[?25hCollecting distlib<1,>=0.3.6 (from virtualenv>=20.17.1->pipenv)\n",
      "  Downloading distlib-0.3.6-py2.py3-none-any.whl (468 kB)\n",
      "\u001b[2K     \u001b[90m━━━━━━━━━━━━━━━━━━━━━━━━━━━━━━━━━━━━━━\u001b[0m \u001b[32m468.5/468.5 kB\u001b[0m \u001b[31m40.0 MB/s\u001b[0m eta \u001b[36m0:00:00\u001b[0m\n",
      "\u001b[?25hCollecting filelock<4,>=3.12 (from virtualenv>=20.17.1->pipenv)\n",
      "  Downloading filelock-3.12.2-py3-none-any.whl (10 kB)\n",
      "Requirement already satisfied: platformdirs<4,>=3.5.1 in /opt/conda/lib/python3.10/site-packages (from virtualenv>=20.17.1->pipenv) (3.5.1)\n",
      "Installing collected packages: distlib, virtualenv-clone, filelock, virtualenv, pipenv\n",
      "Successfully installed distlib-0.3.6 filelock-3.12.2 pipenv-2023.6.18 virtualenv-20.23.1 virtualenv-clone-0.5.7\n"
     ]
    }
   ],
   "source": [
    "!pip install pipenv"
   ]
  },
  {
   "cell_type": "markdown",
   "id": "f4193a5c-b166-49af-ab13-874ad32fc8a2",
   "metadata": {},
   "source": [
    "#### Q5. What's the mean predicted duration?\n",
    "12.76"
   ]
  },
  {
   "cell_type": "code",
   "execution_count": 5,
   "id": "0333a905-5ab9-4a6b-a985-6e34b5c6969d",
   "metadata": {},
   "outputs": [
    {
     "name": "stdout",
     "output_type": "stream",
     "text": [
      "12.758556818790902\n"
     ]
    }
   ],
   "source": [
    "!python ./scripts/mean.py 2022 03"
   ]
  },
  {
   "cell_type": "markdown",
   "id": "925381f0-87e1-475b-b064-15ec6a819fc0",
   "metadata": {},
   "source": [
    "### Q6. What's the mean predicted duration for April 2022?\n",
    "12.827242870079969"
   ]
  }
 ],
 "metadata": {
  "kernelspec": {
   "display_name": "Python 3 (ipykernel)",
   "language": "python",
   "name": "python3"
  },
  "language_info": {
   "codemirror_mode": {
    "name": "ipython",
    "version": 3
   },
   "file_extension": ".py",
   "mimetype": "text/x-python",
   "name": "python",
   "nbconvert_exporter": "python",
   "pygments_lexer": "ipython3",
   "version": "3.10.11"
  }
 },
 "nbformat": 4,
 "nbformat_minor": 5
}
