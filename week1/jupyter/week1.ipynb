{
 "cells": [
  {
   "cell_type": "code",
   "execution_count": 2,
   "id": "c75e0ba9-14c5-4589-8e47-a06a4ba4f8b3",
   "metadata": {
    "tags": []
   },
   "outputs": [],
   "source": [
    "import pandas as pd\n",
    "import pickle\n",
    "from sklearn.feature_extraction import DictVectorizer\n",
    "from sklearn.linear_model import LinearRegression\n",
    "from sklearn.metrics import mean_squared_error\n",
    "\n",
    "def read_dataset(path):\n",
    "    df = pd.read_parquet(path)\n",
    "    \n",
    "    # prepare duration metric\n",
    "    df[\"duration\"] = (df.tpep_dropoff_datetime - df.tpep_pickup_datetime) \\\n",
    "        .apply(lambda x: x.total_seconds() / 60)\n",
    "    \n",
    "    # remove outliers\n",
    "    df = df[(df.duration >= 1) & (df.duration <= 60)]\n",
    "    \n",
    "    # convert categorical variables\n",
    "    categorical = [\"PULocationID\", \"DOLocationID\"]\n",
    "    df[categorical] = df[categorical].astype(str)\n",
    "    \n",
    "    return df\n",
    "\n",
    "\n",
    "jdf = pd.read_parquet(\"./data/yellow_tripdata_2022-01.parquet\")\n",
    "fdf = read_dataset(\"./data/yellow_tripdata_2022-02.parquet\")"
   ]
  },
  {
   "cell_type": "markdown",
   "id": "be854ac8-e492-4da2-9558-28314501900e",
   "metadata": {},
   "source": [
    "#### Q1. How many columns are in the dataset\n",
    "19"
   ]
  },
  {
   "cell_type": "code",
   "execution_count": 3,
   "id": "8ac94f05-5939-4440-b38c-48b63ae91636",
   "metadata": {
    "tags": []
   },
   "outputs": [
    {
     "data": {
      "text/plain": [
       "19"
      ]
     },
     "execution_count": 3,
     "metadata": {},
     "output_type": "execute_result"
    }
   ],
   "source": [
    "len(jdf.columns)"
   ]
  },
  {
   "cell_type": "markdown",
   "id": "571966c3-d1d3-4316-8011-0762cd1f2b01",
   "metadata": {},
   "source": [
    "#### Q2. What is the standard deviation of trips duration in january?\n",
    "46.45"
   ]
  },
  {
   "cell_type": "code",
   "execution_count": 4,
   "id": "00692a14-255a-4e62-a0bf-ef84692f353a",
   "metadata": {
    "tags": []
   },
   "outputs": [],
   "source": [
    "jdf[\"duration\"] = (jdf.tpep_dropoff_datetime - jdf.tpep_pickup_datetime) \\\n",
    "    .apply(lambda x: x.total_seconds() / 60)"
   ]
  },
  {
   "cell_type": "code",
   "execution_count": 5,
   "id": "fab6edf3-5273-4a38-8a7b-2b67a3922ad5",
   "metadata": {
    "tags": []
   },
   "outputs": [
    {
     "data": {
      "text/plain": [
       "46.44530513776499"
      ]
     },
     "execution_count": 5,
     "metadata": {},
     "output_type": "execute_result"
    }
   ],
   "source": [
    "jdf.duration.std()"
   ]
  },
  {
   "cell_type": "markdown",
   "id": "cbb04842-1e91-4a05-a8fa-9e9744896ebd",
   "metadata": {},
   "source": [
    "#### Q3. What is the fraction of records left after the outliers drop?\n",
    "98.27%"
   ]
  },
  {
   "cell_type": "code",
   "execution_count": 6,
   "id": "e6f34173-bcf8-495f-b7c2-ada7bd603472",
   "metadata": {
    "tags": []
   },
   "outputs": [],
   "source": [
    "initial = jdf.shape[0]"
   ]
  },
  {
   "cell_type": "code",
   "execution_count": 7,
   "id": "148e486d-d7de-4d20-bbfd-7fb687b52385",
   "metadata": {
    "tags": []
   },
   "outputs": [],
   "source": [
    "jdf = jdf[(jdf.duration >= 1) & (jdf.duration <= 60)]\n",
    "no_outliers = jdf.shape[0]"
   ]
  },
  {
   "cell_type": "code",
   "execution_count": 8,
   "id": "50677e29-81e5-4be4-8faa-a11a58cceeb1",
   "metadata": {
    "tags": []
   },
   "outputs": [
    {
     "data": {
      "text/plain": [
       "98.27547930522405"
      ]
     },
     "execution_count": 8,
     "metadata": {},
     "output_type": "execute_result"
    }
   ],
   "source": [
    "no_outliers / initial * 100"
   ]
  },
  {
   "cell_type": "markdown",
   "id": "8a6e210c-5e3c-4f49-a178-45cb65ee59ef",
   "metadata": {},
   "source": [
    "#### Q4. Dimensionality of the matrix\n",
    "515"
   ]
  },
  {
   "cell_type": "code",
   "execution_count": 9,
   "id": "ae973229-7464-42ed-a712-f6cef23f5efd",
   "metadata": {
    "tags": []
   },
   "outputs": [],
   "source": [
    "categorical = [\"PULocationID\", \"DOLocationID\"]\n",
    "jdf[categorical] = jdf[categorical].astype(str)"
   ]
  },
  {
   "cell_type": "code",
   "execution_count": 10,
   "id": "87d1429e-d503-4466-b30b-a9dde6300a11",
   "metadata": {
    "tags": []
   },
   "outputs": [],
   "source": [
    "train_dicts = jdf[categorical].to_dict(orient='records')\n",
    "\n",
    "dv = DictVectorizer()\n",
    "X_train = dv.fit_transform(train_dicts)\n",
    "\n",
    "target = 'duration'\n",
    "y_train = jdf[target].values"
   ]
  },
  {
   "cell_type": "code",
   "execution_count": 11,
   "id": "22873367-96a0-4fe5-a015-123500af2797",
   "metadata": {
    "tags": []
   },
   "outputs": [
    {
     "data": {
      "text/plain": [
       "515"
      ]
     },
     "execution_count": 11,
     "metadata": {},
     "output_type": "execute_result"
    }
   ],
   "source": [
    "X_train.get_shape()[1]"
   ]
  },
  {
   "cell_type": "markdown",
   "id": "5c767512-88d6-4ca6-9832-aae306943478",
   "metadata": {},
   "source": [
    "#### Q5. RMSE on train\n",
    "6.99"
   ]
  },
  {
   "cell_type": "code",
   "execution_count": 12,
   "id": "a7b69dc0-5613-4880-bc3f-7f50ec029e24",
   "metadata": {
    "tags": []
   },
   "outputs": [
    {
     "data": {
      "text/plain": [
       "6.98619123059128"
      ]
     },
     "execution_count": 12,
     "metadata": {},
     "output_type": "execute_result"
    }
   ],
   "source": [
    "lr = LinearRegression()\n",
    "lr.fit(X_train, y_train)\n",
    "y_pred = lr.predict(X_train)\n",
    "\n",
    "rmse = mean_squared_error(y_train, y_pred, squared=False)\n",
    "rmse"
   ]
  },
  {
   "cell_type": "markdown",
   "id": "dd320288-149b-4fad-a4e9-6b9296984f7e",
   "metadata": {},
   "source": [
    "#### Q6. RMSE on validation\n",
    "7.79"
   ]
  },
  {
   "cell_type": "code",
   "execution_count": 13,
   "id": "01ca3fe1-d631-477c-b873-cc72aabec996",
   "metadata": {
    "tags": []
   },
   "outputs": [],
   "source": [
    "val_dicts = fdf[categorical].to_dict(orient='records')\n",
    "X_val = dv.transform(val_dicts)\n",
    "y_val = fdf[target].values"
   ]
  },
  {
   "cell_type": "code",
   "execution_count": 14,
   "id": "8e2d692a-3683-44b6-b457-efa7af565368",
   "metadata": {
    "tags": []
   },
   "outputs": [
    {
     "data": {
      "text/plain": [
       "7.786413522518241"
      ]
     },
     "execution_count": 14,
     "metadata": {},
     "output_type": "execute_result"
    }
   ],
   "source": [
    "y_pred = lr.predict(X_val)\n",
    "rmse = mean_squared_error(y_val, y_pred, squared=False)\n",
    "rmse"
   ]
  },
  {
   "cell_type": "code",
   "execution_count": 24,
   "id": "1ec0ee81-0fc1-4548-935d-b705e7661b22",
   "metadata": {
    "tags": []
   },
   "outputs": [],
   "source": [
    "with open(\"./models/lin_reg.bin\", \"wb\") as file:\n",
    "    pickle.dump((dv, lr), file)"
   ]
  }
 ],
 "metadata": {
  "kernelspec": {
   "display_name": "Python 3 (ipykernel)",
   "language": "python",
   "name": "python3"
  },
  "language_info": {
   "codemirror_mode": {
    "name": "ipython",
    "version": 3
   },
   "file_extension": ".py",
   "mimetype": "text/x-python",
   "name": "python",
   "nbconvert_exporter": "python",
   "pygments_lexer": "ipython3",
   "version": "3.10.11"
  }
 },
 "nbformat": 4,
 "nbformat_minor": 5
}
