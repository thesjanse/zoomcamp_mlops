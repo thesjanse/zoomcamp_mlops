{
 "cells": [
  {
   "cell_type": "markdown",
   "id": "5914ee47-36f3-4f1e-b9d5-6648cbc8ec04",
   "metadata": {},
   "source": [
    "#### Q1. Version of mlflow\n",
    "2.3.2"
   ]
  },
  {
   "cell_type": "code",
   "execution_count": 1,
   "id": "26cd50bb-0ed9-47d7-86f6-74f7528240ec",
   "metadata": {},
   "outputs": [
    {
     "name": "stdout",
     "output_type": "stream",
     "text": [
      "# packages in environment at /opt/conda:\n",
      "#\n",
      "# Name                    Version                   Build  Channel\n",
      "mlflow                    2.3.2           py310ha13cd29_1    conda-forge\n"
     ]
    }
   ],
   "source": [
    "!conda list mlflow"
   ]
  },
  {
   "cell_type": "markdown",
   "id": "3955f69f-627d-4e51-9553-d1d2d30fe835",
   "metadata": {},
   "source": [
    "#### Q2. Size of dict vectorizer\n",
    "154k"
   ]
  },
  {
   "cell_type": "code",
   "execution_count": 2,
   "id": "c00b382e-0cd6-458a-a820-a274cd79ffdd",
   "metadata": {},
   "outputs": [],
   "source": [
    "!python preprocess_data.py --raw_data_path ./data --dest_path ./output"
   ]
  },
  {
   "cell_type": "code",
   "execution_count": 3,
   "id": "239f5ff2-ae74-4421-8454-2de9d745cb2a",
   "metadata": {},
   "outputs": [
    {
     "name": "stdout",
     "output_type": "stream",
     "text": [
      "total 7104\n",
      "-rw-r--r-- 1 jovyan users  153660 Jun  1 10:35 dv.pkl\n",
      "-rw-r--r-- 1 jovyan users 2632817 Jun  1 10:35 test.pkl\n",
      "-rw-r--r-- 1 jovyan users 2146163 Jun  1 10:35 train.pkl\n",
      "-rw-r--r-- 1 jovyan users 2336393 Jun  1 10:35 val.pkl\n"
     ]
    }
   ],
   "source": [
    "!ls -l ./output"
   ]
  },
  {
   "cell_type": "markdown",
   "id": "06a0206d-a6dc-4957-9b46-ede366ba213a",
   "metadata": {},
   "source": [
    "#### Q3. Value of max_depth parameter\n",
    "10"
   ]
  },
  {
   "cell_type": "code",
   "execution_count": 1,
   "id": "2021db08-9462-477f-83b1-9a6ba41f3ae6",
   "metadata": {},
   "outputs": [
    {
     "name": "stdout",
     "output_type": "stream",
     "text": [
      "2023/06/01 11:30:52 INFO mlflow.tracking.fluent: Autologging successfully enabled for sklearn.\n",
      "2023/06/01 11:30:59 WARNING mlflow.utils.autologging_utils: MLflow autologging encountered a warning: \"/opt/conda/lib/python3.10/site-packages/_distutils_hack/__init__.py:33: UserWarning: Setuptools is replacing distutils.\"\n"
     ]
    }
   ],
   "source": [
    "!python train.py --data_path ./output"
   ]
  },
  {
   "cell_type": "markdown",
   "id": "9fcd503d-ca86-43df-928c-ff05378e3f10",
   "metadata": {},
   "source": [
    "#### Q4. Best RMSE\n",
    "2.45"
   ]
  },
  {
   "cell_type": "code",
   "execution_count": 3,
   "id": "6658ebc1-2b7d-45fc-865e-d5ea2309ee68",
   "metadata": {},
   "outputs": [
    {
     "name": "stdout",
     "output_type": "stream",
     "text": [
      "\u001b[32m[I 2023-06-01 13:50:20,988]\u001b[0m A new study created in memory with name: no-name-65ff029e-00dc-4d60-8e44-6fcae666e803\u001b[0m\n",
      "\u001b[32m[I 2023-06-01 13:50:22,083]\u001b[0m Trial 0 finished with value: 2.451379690825458 and parameters: {'n_estimators': 25, 'max_depth': 20, 'min_samples_split': 8, 'min_samples_leaf': 3, 'random_state': 42, 'n_jobs': -1}. Best is trial 0 with value: 2.451379690825458.\u001b[0m\n",
      "\u001b[32m[I 2023-06-01 13:50:22,231]\u001b[0m Trial 1 finished with value: 2.4667366020368333 and parameters: {'n_estimators': 16, 'max_depth': 4, 'min_samples_split': 2, 'min_samples_leaf': 4, 'random_state': 42, 'n_jobs': -1}. Best is trial 0 with value: 2.451379690825458.\u001b[0m\n",
      "\u001b[32m[I 2023-06-01 13:50:23,274]\u001b[0m Trial 2 finished with value: 2.449827329704216 and parameters: {'n_estimators': 34, 'max_depth': 15, 'min_samples_split': 2, 'min_samples_leaf': 4, 'random_state': 42, 'n_jobs': -1}. Best is trial 2 with value: 2.449827329704216.\u001b[0m\n",
      "\u001b[32m[I 2023-06-01 13:50:23,635]\u001b[0m Trial 3 finished with value: 2.460983516558473 and parameters: {'n_estimators': 44, 'max_depth': 5, 'min_samples_split': 3, 'min_samples_leaf': 1, 'random_state': 42, 'n_jobs': -1}. Best is trial 2 with value: 2.449827329704216.\u001b[0m\n",
      "\u001b[32m[I 2023-06-01 13:50:24,092]\u001b[0m Trial 4 finished with value: 2.453877262701052 and parameters: {'n_estimators': 22, 'max_depth': 11, 'min_samples_split': 5, 'min_samples_leaf': 2, 'random_state': 42, 'n_jobs': -1}. Best is trial 2 with value: 2.449827329704216.\u001b[0m\n",
      "\u001b[32m[I 2023-06-01 13:50:24,299]\u001b[0m Trial 5 finished with value: 2.4720122094960733 and parameters: {'n_estimators': 35, 'max_depth': 3, 'min_samples_split': 4, 'min_samples_leaf': 2, 'random_state': 42, 'n_jobs': -1}. Best is trial 2 with value: 2.449827329704216.\u001b[0m\n",
      "\u001b[32m[I 2023-06-01 13:50:25,260]\u001b[0m Trial 6 finished with value: 2.4516421799356767 and parameters: {'n_estimators': 28, 'max_depth': 16, 'min_samples_split': 3, 'min_samples_leaf': 3, 'random_state': 42, 'n_jobs': -1}. Best is trial 2 with value: 2.449827329704216.\u001b[0m\n",
      "\u001b[32m[I 2023-06-01 13:50:25,432]\u001b[0m Trial 7 finished with value: 2.5374040268274087 and parameters: {'n_estimators': 34, 'max_depth': 1, 'min_samples_split': 7, 'min_samples_leaf': 1, 'random_state': 42, 'n_jobs': -1}. Best is trial 2 with value: 2.449827329704216.\u001b[0m\n",
      "\u001b[32m[I 2023-06-01 13:50:25,981]\u001b[0m Trial 8 finished with value: 2.455971238567075 and parameters: {'n_estimators': 12, 'max_depth': 19, 'min_samples_split': 10, 'min_samples_leaf': 4, 'random_state': 42, 'n_jobs': -1}. Best is trial 2 with value: 2.449827329704216.\u001b[0m\n",
      "\u001b[32m[I 2023-06-01 13:50:26,121]\u001b[0m Trial 9 finished with value: 2.486106021576535 and parameters: {'n_estimators': 22, 'max_depth': 2, 'min_samples_split': 8, 'min_samples_leaf': 2, 'random_state': 42, 'n_jobs': -1}. Best is trial 2 with value: 2.449827329704216.\u001b[0m\n"
     ]
    }
   ],
   "source": [
    "!python hpo.py --data_path \"./output\" --num_trials 10"
   ]
  },
  {
   "cell_type": "markdown",
   "id": "57483aa5-7093-4e23-aba5-4a4018776c34",
   "metadata": {},
   "source": [
    "#### Q5. RMSE of the best model\n",
    "2.185"
   ]
  },
  {
   "cell_type": "code",
   "execution_count": 9,
   "id": "bbf9ad18-66cb-4c87-a36e-5d7d9d481c08",
   "metadata": {},
   "outputs": [
    {
     "name": "stdout",
     "output_type": "stream",
     "text": [
      "2023/06/01 14:07:03 WARNING mlflow.utils.autologging_utils: MLflow autologging encountered a warning: \"/opt/conda/lib/python3.10/site-packages/_distutils_hack/__init__.py:33: UserWarning: Setuptools is replacing distutils.\"\n",
      "Successfully registered model 'nyc-green-taxi-regressor'.\n",
      "2023/06/01 14:07:11 INFO mlflow.tracking._model_registry.client: Waiting up to 300 seconds for model version to finish creation. Model name: nyc-green-taxi-regressor, version 1\n",
      "Created version '1' of model 'nyc-green-taxi-regressor'.\n"
     ]
    }
   ],
   "source": [
    "!python register_model.py --data_path \"./output\" --top_n 5"
   ]
  },
  {
   "cell_type": "markdown",
   "id": "008e7cfb-8c16-49fd-89de-e55538eed36e",
   "metadata": {},
   "source": [
    "#### Q6. UI items\n",
    "All of the above"
   ]
  }
 ],
 "metadata": {
  "kernelspec": {
   "display_name": "Python 3 (ipykernel)",
   "language": "python",
   "name": "python3"
  },
  "language_info": {
   "codemirror_mode": {
    "name": "ipython",
    "version": 3
   },
   "file_extension": ".py",
   "mimetype": "text/x-python",
   "name": "python",
   "nbconvert_exporter": "python",
   "pygments_lexer": "ipython3",
   "version": "3.10.11"
  }
 },
 "nbformat": 4,
 "nbformat_minor": 5
}
