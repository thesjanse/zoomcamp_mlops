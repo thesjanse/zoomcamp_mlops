{
 "cells": [
  {
   "cell_type": "markdown",
   "id": "f56759da-9e5d-44b5-91b0-e470a564da37",
   "metadata": {},
   "source": [
    "#### Q1. Now we need to create the \"main\" block from which we'll invoke the main function. How does the if statement that we use for this looks like?\n",
    "\n",
    "if __name__ == \"__main__\":\n",
    "    year = int(sys.argv[1])\n",
    "    month = int(sys.argv[2])\n",
    "    main(year=year, month=month)"
   ]
  },
  {
   "cell_type": "code",
   "execution_count": 2,
   "id": "0103b991-14cf-4954-a675-bac3740df8ee",
   "metadata": {},
   "outputs": [
    {
     "name": "stdout",
     "output_type": "stream",
     "text": [
      "predicted mean duration: 12.513422116701408\n"
     ]
    }
   ],
   "source": [
    "!python ./scripts/batch.py 2022 02"
   ]
  },
  {
   "cell_type": "markdown",
   "id": "f4b26974-e454-4010-a3b9-7020f36ed637",
   "metadata": {},
   "source": [
    "#### Q2. The second file will be __init__.py. So, why do we need this second file?\n",
    "Both of the above options are correct"
   ]
  },
  {
   "cell_type": "code",
   "execution_count": null,
   "id": "ae624a2a-911f-451b-8b47-e24659f4806d",
   "metadata": {},
   "outputs": [],
   "source": []
  },
  {
   "cell_type": "code",
   "execution_count": null,
   "id": "9c79531c-9138-4257-b8ce-22cb2e2b200a",
   "metadata": {},
   "outputs": [],
   "source": []
  },
  {
   "cell_type": "code",
   "execution_count": null,
   "id": "c95bdaf4-7339-486d-9a23-6669bc11c194",
   "metadata": {},
   "outputs": [],
   "source": []
  },
  {
   "cell_type": "code",
   "execution_count": null,
   "id": "ba49d266-d2e2-4f0f-bec9-e9073cda8294",
   "metadata": {},
   "outputs": [],
   "source": []
  }
 ],
 "metadata": {
  "kernelspec": {
   "display_name": "Python 3 (ipykernel)",
   "language": "python",
   "name": "python3"
  },
  "language_info": {
   "codemirror_mode": {
    "name": "ipython",
    "version": 3
   },
   "file_extension": ".py",
   "mimetype": "text/x-python",
   "name": "python",
   "nbconvert_exporter": "python",
   "pygments_lexer": "ipython3",
   "version": "3.10.11"
  }
 },
 "nbformat": 4,
 "nbformat_minor": 5
}
